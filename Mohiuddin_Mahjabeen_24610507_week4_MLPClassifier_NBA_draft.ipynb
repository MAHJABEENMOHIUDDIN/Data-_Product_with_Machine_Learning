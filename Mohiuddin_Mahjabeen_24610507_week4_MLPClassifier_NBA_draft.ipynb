{
 "cells": [
  {
   "cell_type": "markdown",
   "metadata": {},
   "source": [
    "# PROJECT : NBA DRAFT(KAGGLE COMPETITION)-- WEEK_4--CUSTOMPACKAGE\n",
    "\n",
    "\n",
    "### Student Name : Mahjabeen Mohiuddin\n",
    "### Student_Id: 24610507\n",
    "### Course : Data Science and Innovation\n",
    "\n",
    "\n",
    "\n",
    "## Topics of the Project:\n",
    "### 1. Importing Packages from sklearn, testpypi.org and loading datasets into dataframes\n",
    "### 2. Data Cleaning Process\n",
    "### 3.Exploratory Data Analysis \n",
    "### 4. Splitting train dataset into feature and target, andScaling of Data using Standard Scaler\n",
    "### 5. Sampling of Data Using Smote and Spliting data into train and validation set\n",
    "### 6. Baseline Model Performance\n",
    "### 7. Models 1: \n",
    "       1. NullBinaryClassifier :BaseLine Model\n",
    "\n",
    "     ### Model :  \n",
    "       2. Mutli Layer Perception (MLP) Classification\n",
    "       3. Probability and Au_Roc Score\n",
    "\n",
    "         \n",
    "\n",
    "\n",
    "### Package Installation Link: \n",
    "### pip install -i https://test.pypi.org/simple/ uts-mahe-binaryclassifier-24610507-0.1.3\n",
    "\n",
    "### Github_link :   https://github.com/MAHJABEENMOHIUDDIN/Adv_ML_Project_Community_Prediction_Competition/tree/master\n",
    "   "
   ]
  },
  {
   "cell_type": "markdown",
   "metadata": {},
   "source": [
    "# Topic 1:\n",
    "  ## [1.1] Importing Pandas and numpy"
   ]
  },
  {
   "cell_type": "code",
   "execution_count": 229,
   "metadata": {},
   "outputs": [],
   "source": [
    "import pandas as pd\n",
    "import numpy as np\n",
    "from matplotlib import pyplot as plt\n",
    "from sklearn import metrics\n",
    "from sklearn.metrics import roc_auc_score\n",
    "\n"
   ]
  },
  {
   "cell_type": "markdown",
   "metadata": {},
   "source": [
    "## [1.2] Loading Datasets and Custom Package from testpypi.org"
   ]
  },
  {
   "cell_type": "markdown",
   "metadata": {},
   "source": [
    "#### To import my custom package run this code\n",
    "\n",
    "##### Inside your notebook, it should be: pip install -i https://test.pypi.org/simple/ uts-mahe-binaryclassifier-24610507-0.1.3\n",
    "\n",
    "##### Via Poetry, it should be: poetry run pip install -i https://test.pypi.org/simple/ uts-mahe-binaryclassifier-24610507-0.1.3"
   ]
  },
  {
   "cell_type": "code",
   "execution_count": 230,
   "metadata": {},
   "outputs": [
    {
     "name": "stderr",
     "output_type": "stream",
     "text": [
      "/var/folders/9c/b8x7cjsj3ns9391k_v_4_3dr0000gn/T/ipykernel_91346/299726252.py:1: DtypeWarning: Columns (26) have mixed types. Specify dtype option on import or set low_memory=False.\n",
      "  train_df= pd.read_csv('../data/raw/Adv_ML_Project_Community_Predict_Competition_train.csv')\n"
     ]
    }
   ],
   "source": [
    "train_df= pd.read_csv('../data/raw/Adv_ML_Project_Community_Predict_Competition_train.csv')"
   ]
  },
  {
   "cell_type": "code",
   "execution_count": 231,
   "metadata": {},
   "outputs": [
    {
     "data": {
      "text/plain": [
       "(56091, 64)"
      ]
     },
     "execution_count": 231,
     "metadata": {},
     "output_type": "execute_result"
    }
   ],
   "source": [
    "train_df.shape\n"
   ]
  },
  {
   "cell_type": "code",
   "execution_count": 232,
   "metadata": {},
   "outputs": [
    {
     "data": {
      "text/plain": [
       "Index(['team', 'conf', 'GP', 'Min_per', 'Ortg', 'usg', 'eFG', 'TS_per',\n",
       "       'ORB_per', 'DRB_per', 'AST_per', 'TO_per', 'FTM', 'FTA', 'FT_per',\n",
       "       'twoPM', 'twoPA', 'twoP_per', 'TPM', 'TPA', 'TP_per', 'blk_per',\n",
       "       'stl_per', 'ftr', 'yr', 'ht', 'num', 'porpag', 'adjoe', 'pfr', 'year',\n",
       "       'type', 'Rec_Rank', 'ast_tov', 'rimmade', 'rimmade_rimmiss', 'midmade',\n",
       "       'midmade_midmiss', 'rim_ratio', 'mid_ratio', 'dunksmade',\n",
       "       'dunksmiss_dunksmade', 'dunks_ratio', 'pick', 'drtg', 'adrtg',\n",
       "       'dporpag', 'stops', 'bpm', 'obpm', 'dbpm', 'gbpm', 'mp', 'ogbpm',\n",
       "       'dgbpm', 'oreb', 'dreb', 'treb', 'ast', 'stl', 'blk', 'pts',\n",
       "       'player_id', 'drafted'],\n",
       "      dtype='object')"
      ]
     },
     "execution_count": 232,
     "metadata": {},
     "output_type": "execute_result"
    }
   ],
   "source": [
    "train_df.columns"
   ]
  },
  {
   "cell_type": "code",
   "execution_count": 233,
   "metadata": {},
   "outputs": [
    {
     "data": {
      "text/html": [
       "<div>\n",
       "<style scoped>\n",
       "    .dataframe tbody tr th:only-of-type {\n",
       "        vertical-align: middle;\n",
       "    }\n",
       "\n",
       "    .dataframe tbody tr th {\n",
       "        vertical-align: top;\n",
       "    }\n",
       "\n",
       "    .dataframe thead th {\n",
       "        text-align: right;\n",
       "    }\n",
       "</style>\n",
       "<table border=\"1\" class=\"dataframe\">\n",
       "  <thead>\n",
       "    <tr style=\"text-align: right;\">\n",
       "      <th></th>\n",
       "      <th>team</th>\n",
       "      <th>conf</th>\n",
       "      <th>GP</th>\n",
       "      <th>Min_per</th>\n",
       "      <th>Ortg</th>\n",
       "      <th>usg</th>\n",
       "      <th>eFG</th>\n",
       "      <th>TS_per</th>\n",
       "      <th>ORB_per</th>\n",
       "      <th>DRB_per</th>\n",
       "      <th>...</th>\n",
       "      <th>dgbpm</th>\n",
       "      <th>oreb</th>\n",
       "      <th>dreb</th>\n",
       "      <th>treb</th>\n",
       "      <th>ast</th>\n",
       "      <th>stl</th>\n",
       "      <th>blk</th>\n",
       "      <th>pts</th>\n",
       "      <th>player_id</th>\n",
       "      <th>drafted</th>\n",
       "    </tr>\n",
       "  </thead>\n",
       "  <tbody>\n",
       "    <tr>\n",
       "      <th>0</th>\n",
       "      <td>South Alabama</td>\n",
       "      <td>SB</td>\n",
       "      <td>26</td>\n",
       "      <td>29.5</td>\n",
       "      <td>97.3</td>\n",
       "      <td>16.6</td>\n",
       "      <td>42.5</td>\n",
       "      <td>44.43</td>\n",
       "      <td>1.6</td>\n",
       "      <td>4.6</td>\n",
       "      <td>...</td>\n",
       "      <td>-1.941150</td>\n",
       "      <td>0.1923</td>\n",
       "      <td>0.6154</td>\n",
       "      <td>0.8077</td>\n",
       "      <td>1.1923</td>\n",
       "      <td>0.3462</td>\n",
       "      <td>0.0385</td>\n",
       "      <td>3.8846</td>\n",
       "      <td>7be2aead-da4e-4d13-a74b-4c1e692e2368</td>\n",
       "      <td>0.0</td>\n",
       "    </tr>\n",
       "    <tr>\n",
       "      <th>1</th>\n",
       "      <td>Utah St.</td>\n",
       "      <td>WAC</td>\n",
       "      <td>34</td>\n",
       "      <td>60.9</td>\n",
       "      <td>108.3</td>\n",
       "      <td>14.9</td>\n",
       "      <td>52.4</td>\n",
       "      <td>54.48</td>\n",
       "      <td>3.8</td>\n",
       "      <td>6.3</td>\n",
       "      <td>...</td>\n",
       "      <td>-0.247934</td>\n",
       "      <td>0.6765</td>\n",
       "      <td>1.2647</td>\n",
       "      <td>1.9412</td>\n",
       "      <td>1.8235</td>\n",
       "      <td>0.4118</td>\n",
       "      <td>0.2353</td>\n",
       "      <td>5.9412</td>\n",
       "      <td>61de55d9-1582-4ea4-b593-44f6aa6524a6</td>\n",
       "      <td>0.0</td>\n",
       "    </tr>\n",
       "    <tr>\n",
       "      <th>2</th>\n",
       "      <td>South Florida</td>\n",
       "      <td>BE</td>\n",
       "      <td>27</td>\n",
       "      <td>72.0</td>\n",
       "      <td>96.2</td>\n",
       "      <td>21.8</td>\n",
       "      <td>45.7</td>\n",
       "      <td>47.98</td>\n",
       "      <td>2.1</td>\n",
       "      <td>8.0</td>\n",
       "      <td>...</td>\n",
       "      <td>-0.883163</td>\n",
       "      <td>0.6296</td>\n",
       "      <td>2.3333</td>\n",
       "      <td>2.9630</td>\n",
       "      <td>1.9630</td>\n",
       "      <td>0.4815</td>\n",
       "      <td>0.0000</td>\n",
       "      <td>12.1852</td>\n",
       "      <td>efdc4cfc-9dd0-4bf8-acef-7273e4d5b655</td>\n",
       "      <td>0.0</td>\n",
       "    </tr>\n",
       "    <tr>\n",
       "      <th>3</th>\n",
       "      <td>Pepperdine</td>\n",
       "      <td>WCC</td>\n",
       "      <td>30</td>\n",
       "      <td>44.5</td>\n",
       "      <td>97.7</td>\n",
       "      <td>16.0</td>\n",
       "      <td>53.6</td>\n",
       "      <td>53.69</td>\n",
       "      <td>4.1</td>\n",
       "      <td>9.4</td>\n",
       "      <td>...</td>\n",
       "      <td>-0.393459</td>\n",
       "      <td>0.7000</td>\n",
       "      <td>1.4333</td>\n",
       "      <td>2.1333</td>\n",
       "      <td>1.1000</td>\n",
       "      <td>0.5667</td>\n",
       "      <td>0.1333</td>\n",
       "      <td>4.9333</td>\n",
       "      <td>14f05660-bb3c-4868-b3dd-09bcdb64279d</td>\n",
       "      <td>0.0</td>\n",
       "    </tr>\n",
       "    <tr>\n",
       "      <th>4</th>\n",
       "      <td>Pacific</td>\n",
       "      <td>BW</td>\n",
       "      <td>33</td>\n",
       "      <td>56.2</td>\n",
       "      <td>96.5</td>\n",
       "      <td>22.0</td>\n",
       "      <td>52.8</td>\n",
       "      <td>54.31</td>\n",
       "      <td>8.3</td>\n",
       "      <td>18.6</td>\n",
       "      <td>...</td>\n",
       "      <td>-0.668318</td>\n",
       "      <td>1.4242</td>\n",
       "      <td>3.3030</td>\n",
       "      <td>4.7273</td>\n",
       "      <td>0.8485</td>\n",
       "      <td>0.4545</td>\n",
       "      <td>0.3333</td>\n",
       "      <td>7.5758</td>\n",
       "      <td>a58db52f-fbba-4e7b-83d0-371efcfed039</td>\n",
       "      <td>0.0</td>\n",
       "    </tr>\n",
       "    <tr>\n",
       "      <th>...</th>\n",
       "      <td>...</td>\n",
       "      <td>...</td>\n",
       "      <td>...</td>\n",
       "      <td>...</td>\n",
       "      <td>...</td>\n",
       "      <td>...</td>\n",
       "      <td>...</td>\n",
       "      <td>...</td>\n",
       "      <td>...</td>\n",
       "      <td>...</td>\n",
       "      <td>...</td>\n",
       "      <td>...</td>\n",
       "      <td>...</td>\n",
       "      <td>...</td>\n",
       "      <td>...</td>\n",
       "      <td>...</td>\n",
       "      <td>...</td>\n",
       "      <td>...</td>\n",
       "      <td>...</td>\n",
       "      <td>...</td>\n",
       "      <td>...</td>\n",
       "    </tr>\n",
       "    <tr>\n",
       "      <th>56086</th>\n",
       "      <td>Niagara</td>\n",
       "      <td>MAAC</td>\n",
       "      <td>1</td>\n",
       "      <td>0.1</td>\n",
       "      <td>0.0</td>\n",
       "      <td>48.9</td>\n",
       "      <td>0.0</td>\n",
       "      <td>0.00</td>\n",
       "      <td>0.0</td>\n",
       "      <td>0.0</td>\n",
       "      <td>...</td>\n",
       "      <td>-17.439600</td>\n",
       "      <td>0.0000</td>\n",
       "      <td>0.0000</td>\n",
       "      <td>0.0000</td>\n",
       "      <td>0.0000</td>\n",
       "      <td>0.0000</td>\n",
       "      <td>0.0000</td>\n",
       "      <td>0.0000</td>\n",
       "      <td>9eded9ee-0eb4-49f4-914a-f58924797bdf</td>\n",
       "      <td>0.0</td>\n",
       "    </tr>\n",
       "    <tr>\n",
       "      <th>56087</th>\n",
       "      <td>Northwestern St.</td>\n",
       "      <td>Slnd</td>\n",
       "      <td>1</td>\n",
       "      <td>0.2</td>\n",
       "      <td>206.9</td>\n",
       "      <td>35.9</td>\n",
       "      <td>100.0</td>\n",
       "      <td>102.56</td>\n",
       "      <td>0.0</td>\n",
       "      <td>0.0</td>\n",
       "      <td>...</td>\n",
       "      <td>9.392350</td>\n",
       "      <td>0.0000</td>\n",
       "      <td>0.0000</td>\n",
       "      <td>0.0000</td>\n",
       "      <td>0.0000</td>\n",
       "      <td>0.0000</td>\n",
       "      <td>0.0000</td>\n",
       "      <td>4.0000</td>\n",
       "      <td>5b539feb-1736-44ed-ba62-82bce86b12d6</td>\n",
       "      <td>0.0</td>\n",
       "    </tr>\n",
       "    <tr>\n",
       "      <th>56088</th>\n",
       "      <td>Texas Southern</td>\n",
       "      <td>SWAC</td>\n",
       "      <td>1</td>\n",
       "      <td>0.6</td>\n",
       "      <td>48.5</td>\n",
       "      <td>28.9</td>\n",
       "      <td>0.0</td>\n",
       "      <td>52.63</td>\n",
       "      <td>0.0</td>\n",
       "      <td>15.9</td>\n",
       "      <td>...</td>\n",
       "      <td>-3.240610</td>\n",
       "      <td>0.0000</td>\n",
       "      <td>1.0000</td>\n",
       "      <td>1.0000</td>\n",
       "      <td>0.0000</td>\n",
       "      <td>0.0000</td>\n",
       "      <td>0.0000</td>\n",
       "      <td>2.0000</td>\n",
       "      <td>e95d08eb-1273-4094-9173-c47368222c0d</td>\n",
       "      <td>0.0</td>\n",
       "    </tr>\n",
       "    <tr>\n",
       "      <th>56089</th>\n",
       "      <td>Vanderbilt</td>\n",
       "      <td>SEC</td>\n",
       "      <td>1</td>\n",
       "      <td>0.1</td>\n",
       "      <td>300.0</td>\n",
       "      <td>20.0</td>\n",
       "      <td>150.0</td>\n",
       "      <td>150.00</td>\n",
       "      <td>0.0</td>\n",
       "      <td>0.0</td>\n",
       "      <td>...</td>\n",
       "      <td>16.362500</td>\n",
       "      <td>0.0000</td>\n",
       "      <td>0.0000</td>\n",
       "      <td>0.0000</td>\n",
       "      <td>0.0000</td>\n",
       "      <td>0.0000</td>\n",
       "      <td>0.0000</td>\n",
       "      <td>3.0000</td>\n",
       "      <td>2f315a7b-2e82-44a2-8597-1779102ace09</td>\n",
       "      <td>0.0</td>\n",
       "    </tr>\n",
       "    <tr>\n",
       "      <th>56090</th>\n",
       "      <td>Chicago St.</td>\n",
       "      <td>WAC</td>\n",
       "      <td>19</td>\n",
       "      <td>21.9</td>\n",
       "      <td>55.0</td>\n",
       "      <td>16.4</td>\n",
       "      <td>24.5</td>\n",
       "      <td>30.60</td>\n",
       "      <td>0.6</td>\n",
       "      <td>7.2</td>\n",
       "      <td>...</td>\n",
       "      <td>-4.935520</td>\n",
       "      <td>0.0455</td>\n",
       "      <td>0.9091</td>\n",
       "      <td>0.9545</td>\n",
       "      <td>0.5909</td>\n",
       "      <td>0.4091</td>\n",
       "      <td>0.0000</td>\n",
       "      <td>2.4091</td>\n",
       "      <td>65571c18-b2b4-4ba6-84db-7357a76e6f59</td>\n",
       "      <td>0.0</td>\n",
       "    </tr>\n",
       "  </tbody>\n",
       "</table>\n",
       "<p>56091 rows × 64 columns</p>\n",
       "</div>"
      ],
      "text/plain": [
       "                   team  conf  GP  Min_per   Ortg   usg    eFG  TS_per   \n",
       "0         South Alabama    SB  26     29.5   97.3  16.6   42.5   44.43  \\\n",
       "1              Utah St.   WAC  34     60.9  108.3  14.9   52.4   54.48   \n",
       "2         South Florida    BE  27     72.0   96.2  21.8   45.7   47.98   \n",
       "3            Pepperdine   WCC  30     44.5   97.7  16.0   53.6   53.69   \n",
       "4               Pacific    BW  33     56.2   96.5  22.0   52.8   54.31   \n",
       "...                 ...   ...  ..      ...    ...   ...    ...     ...   \n",
       "56086           Niagara  MAAC   1      0.1    0.0  48.9    0.0    0.00   \n",
       "56087  Northwestern St.  Slnd   1      0.2  206.9  35.9  100.0  102.56   \n",
       "56088    Texas Southern  SWAC   1      0.6   48.5  28.9    0.0   52.63   \n",
       "56089        Vanderbilt   SEC   1      0.1  300.0  20.0  150.0  150.00   \n",
       "56090       Chicago St.   WAC  19     21.9   55.0  16.4   24.5   30.60   \n",
       "\n",
       "       ORB_per  DRB_per  ...      dgbpm    oreb    dreb    treb     ast   \n",
       "0          1.6      4.6  ...  -1.941150  0.1923  0.6154  0.8077  1.1923  \\\n",
       "1          3.8      6.3  ...  -0.247934  0.6765  1.2647  1.9412  1.8235   \n",
       "2          2.1      8.0  ...  -0.883163  0.6296  2.3333  2.9630  1.9630   \n",
       "3          4.1      9.4  ...  -0.393459  0.7000  1.4333  2.1333  1.1000   \n",
       "4          8.3     18.6  ...  -0.668318  1.4242  3.3030  4.7273  0.8485   \n",
       "...        ...      ...  ...        ...     ...     ...     ...     ...   \n",
       "56086      0.0      0.0  ... -17.439600  0.0000  0.0000  0.0000  0.0000   \n",
       "56087      0.0      0.0  ...   9.392350  0.0000  0.0000  0.0000  0.0000   \n",
       "56088      0.0     15.9  ...  -3.240610  0.0000  1.0000  1.0000  0.0000   \n",
       "56089      0.0      0.0  ...  16.362500  0.0000  0.0000  0.0000  0.0000   \n",
       "56090      0.6      7.2  ...  -4.935520  0.0455  0.9091  0.9545  0.5909   \n",
       "\n",
       "          stl     blk      pts                             player_id  drafted  \n",
       "0      0.3462  0.0385   3.8846  7be2aead-da4e-4d13-a74b-4c1e692e2368      0.0  \n",
       "1      0.4118  0.2353   5.9412  61de55d9-1582-4ea4-b593-44f6aa6524a6      0.0  \n",
       "2      0.4815  0.0000  12.1852  efdc4cfc-9dd0-4bf8-acef-7273e4d5b655      0.0  \n",
       "3      0.5667  0.1333   4.9333  14f05660-bb3c-4868-b3dd-09bcdb64279d      0.0  \n",
       "4      0.4545  0.3333   7.5758  a58db52f-fbba-4e7b-83d0-371efcfed039      0.0  \n",
       "...       ...     ...      ...                                   ...      ...  \n",
       "56086  0.0000  0.0000   0.0000  9eded9ee-0eb4-49f4-914a-f58924797bdf      0.0  \n",
       "56087  0.0000  0.0000   4.0000  5b539feb-1736-44ed-ba62-82bce86b12d6      0.0  \n",
       "56088  0.0000  0.0000   2.0000  e95d08eb-1273-4094-9173-c47368222c0d      0.0  \n",
       "56089  0.0000  0.0000   3.0000  2f315a7b-2e82-44a2-8597-1779102ace09      0.0  \n",
       "56090  0.4091  0.0000   2.4091  65571c18-b2b4-4ba6-84db-7357a76e6f59      0.0  \n",
       "\n",
       "[56091 rows x 64 columns]"
      ]
     },
     "execution_count": 233,
     "metadata": {},
     "output_type": "execute_result"
    }
   ],
   "source": [
    "train_df"
   ]
  },
  {
   "cell_type": "markdown",
   "metadata": {},
   "source": [
    "#### Importing testing dataset"
   ]
  },
  {
   "cell_type": "code",
   "execution_count": 234,
   "metadata": {},
   "outputs": [],
   "source": [
    "test_df= pd.read_csv('../data/raw/Adv_ML_Project_Community_Predict_Competition_test.csv')"
   ]
  },
  {
   "cell_type": "code",
   "execution_count": 235,
   "metadata": {},
   "outputs": [
    {
     "data": {
      "text/plain": [
       "(4970, 63)"
      ]
     },
     "execution_count": 235,
     "metadata": {},
     "output_type": "execute_result"
    }
   ],
   "source": [
    "test_df.shape"
   ]
  },
  {
   "cell_type": "markdown",
   "metadata": {},
   "source": [
    "### [1.3] Displaying head of DataFrame "
   ]
  },
  {
   "cell_type": "code",
   "execution_count": 236,
   "metadata": {},
   "outputs": [
    {
     "data": {
      "text/html": [
       "<div>\n",
       "<style scoped>\n",
       "    .dataframe tbody tr th:only-of-type {\n",
       "        vertical-align: middle;\n",
       "    }\n",
       "\n",
       "    .dataframe tbody tr th {\n",
       "        vertical-align: top;\n",
       "    }\n",
       "\n",
       "    .dataframe thead th {\n",
       "        text-align: right;\n",
       "    }\n",
       "</style>\n",
       "<table border=\"1\" class=\"dataframe\">\n",
       "  <thead>\n",
       "    <tr style=\"text-align: right;\">\n",
       "      <th></th>\n",
       "      <th>team</th>\n",
       "      <th>conf</th>\n",
       "      <th>GP</th>\n",
       "      <th>Min_per</th>\n",
       "      <th>Ortg</th>\n",
       "      <th>usg</th>\n",
       "      <th>eFG</th>\n",
       "      <th>TS_per</th>\n",
       "      <th>ORB_per</th>\n",
       "      <th>DRB_per</th>\n",
       "      <th>...</th>\n",
       "      <th>dgbpm</th>\n",
       "      <th>oreb</th>\n",
       "      <th>dreb</th>\n",
       "      <th>treb</th>\n",
       "      <th>ast</th>\n",
       "      <th>stl</th>\n",
       "      <th>blk</th>\n",
       "      <th>pts</th>\n",
       "      <th>player_id</th>\n",
       "      <th>drafted</th>\n",
       "    </tr>\n",
       "  </thead>\n",
       "  <tbody>\n",
       "    <tr>\n",
       "      <th>0</th>\n",
       "      <td>South Alabama</td>\n",
       "      <td>SB</td>\n",
       "      <td>26</td>\n",
       "      <td>29.5</td>\n",
       "      <td>97.3</td>\n",
       "      <td>16.6</td>\n",
       "      <td>42.5</td>\n",
       "      <td>44.43</td>\n",
       "      <td>1.6</td>\n",
       "      <td>4.6</td>\n",
       "      <td>...</td>\n",
       "      <td>-1.941150</td>\n",
       "      <td>0.1923</td>\n",
       "      <td>0.6154</td>\n",
       "      <td>0.8077</td>\n",
       "      <td>1.1923</td>\n",
       "      <td>0.3462</td>\n",
       "      <td>0.0385</td>\n",
       "      <td>3.8846</td>\n",
       "      <td>7be2aead-da4e-4d13-a74b-4c1e692e2368</td>\n",
       "      <td>0.0</td>\n",
       "    </tr>\n",
       "    <tr>\n",
       "      <th>1</th>\n",
       "      <td>Utah St.</td>\n",
       "      <td>WAC</td>\n",
       "      <td>34</td>\n",
       "      <td>60.9</td>\n",
       "      <td>108.3</td>\n",
       "      <td>14.9</td>\n",
       "      <td>52.4</td>\n",
       "      <td>54.48</td>\n",
       "      <td>3.8</td>\n",
       "      <td>6.3</td>\n",
       "      <td>...</td>\n",
       "      <td>-0.247934</td>\n",
       "      <td>0.6765</td>\n",
       "      <td>1.2647</td>\n",
       "      <td>1.9412</td>\n",
       "      <td>1.8235</td>\n",
       "      <td>0.4118</td>\n",
       "      <td>0.2353</td>\n",
       "      <td>5.9412</td>\n",
       "      <td>61de55d9-1582-4ea4-b593-44f6aa6524a6</td>\n",
       "      <td>0.0</td>\n",
       "    </tr>\n",
       "    <tr>\n",
       "      <th>2</th>\n",
       "      <td>South Florida</td>\n",
       "      <td>BE</td>\n",
       "      <td>27</td>\n",
       "      <td>72.0</td>\n",
       "      <td>96.2</td>\n",
       "      <td>21.8</td>\n",
       "      <td>45.7</td>\n",
       "      <td>47.98</td>\n",
       "      <td>2.1</td>\n",
       "      <td>8.0</td>\n",
       "      <td>...</td>\n",
       "      <td>-0.883163</td>\n",
       "      <td>0.6296</td>\n",
       "      <td>2.3333</td>\n",
       "      <td>2.9630</td>\n",
       "      <td>1.9630</td>\n",
       "      <td>0.4815</td>\n",
       "      <td>0.0000</td>\n",
       "      <td>12.1852</td>\n",
       "      <td>efdc4cfc-9dd0-4bf8-acef-7273e4d5b655</td>\n",
       "      <td>0.0</td>\n",
       "    </tr>\n",
       "    <tr>\n",
       "      <th>3</th>\n",
       "      <td>Pepperdine</td>\n",
       "      <td>WCC</td>\n",
       "      <td>30</td>\n",
       "      <td>44.5</td>\n",
       "      <td>97.7</td>\n",
       "      <td>16.0</td>\n",
       "      <td>53.6</td>\n",
       "      <td>53.69</td>\n",
       "      <td>4.1</td>\n",
       "      <td>9.4</td>\n",
       "      <td>...</td>\n",
       "      <td>-0.393459</td>\n",
       "      <td>0.7000</td>\n",
       "      <td>1.4333</td>\n",
       "      <td>2.1333</td>\n",
       "      <td>1.1000</td>\n",
       "      <td>0.5667</td>\n",
       "      <td>0.1333</td>\n",
       "      <td>4.9333</td>\n",
       "      <td>14f05660-bb3c-4868-b3dd-09bcdb64279d</td>\n",
       "      <td>0.0</td>\n",
       "    </tr>\n",
       "    <tr>\n",
       "      <th>4</th>\n",
       "      <td>Pacific</td>\n",
       "      <td>BW</td>\n",
       "      <td>33</td>\n",
       "      <td>56.2</td>\n",
       "      <td>96.5</td>\n",
       "      <td>22.0</td>\n",
       "      <td>52.8</td>\n",
       "      <td>54.31</td>\n",
       "      <td>8.3</td>\n",
       "      <td>18.6</td>\n",
       "      <td>...</td>\n",
       "      <td>-0.668318</td>\n",
       "      <td>1.4242</td>\n",
       "      <td>3.3030</td>\n",
       "      <td>4.7273</td>\n",
       "      <td>0.8485</td>\n",
       "      <td>0.4545</td>\n",
       "      <td>0.3333</td>\n",
       "      <td>7.5758</td>\n",
       "      <td>a58db52f-fbba-4e7b-83d0-371efcfed039</td>\n",
       "      <td>0.0</td>\n",
       "    </tr>\n",
       "  </tbody>\n",
       "</table>\n",
       "<p>5 rows × 64 columns</p>\n",
       "</div>"
      ],
      "text/plain": [
       "            team conf  GP  Min_per   Ortg   usg   eFG  TS_per  ORB_per   \n",
       "0  South Alabama   SB  26     29.5   97.3  16.6  42.5   44.43      1.6  \\\n",
       "1       Utah St.  WAC  34     60.9  108.3  14.9  52.4   54.48      3.8   \n",
       "2  South Florida   BE  27     72.0   96.2  21.8  45.7   47.98      2.1   \n",
       "3     Pepperdine  WCC  30     44.5   97.7  16.0  53.6   53.69      4.1   \n",
       "4        Pacific   BW  33     56.2   96.5  22.0  52.8   54.31      8.3   \n",
       "\n",
       "   DRB_per  ...     dgbpm    oreb    dreb    treb     ast     stl     blk   \n",
       "0      4.6  ... -1.941150  0.1923  0.6154  0.8077  1.1923  0.3462  0.0385  \\\n",
       "1      6.3  ... -0.247934  0.6765  1.2647  1.9412  1.8235  0.4118  0.2353   \n",
       "2      8.0  ... -0.883163  0.6296  2.3333  2.9630  1.9630  0.4815  0.0000   \n",
       "3      9.4  ... -0.393459  0.7000  1.4333  2.1333  1.1000  0.5667  0.1333   \n",
       "4     18.6  ... -0.668318  1.4242  3.3030  4.7273  0.8485  0.4545  0.3333   \n",
       "\n",
       "       pts                             player_id  drafted  \n",
       "0   3.8846  7be2aead-da4e-4d13-a74b-4c1e692e2368      0.0  \n",
       "1   5.9412  61de55d9-1582-4ea4-b593-44f6aa6524a6      0.0  \n",
       "2  12.1852  efdc4cfc-9dd0-4bf8-acef-7273e4d5b655      0.0  \n",
       "3   4.9333  14f05660-bb3c-4868-b3dd-09bcdb64279d      0.0  \n",
       "4   7.5758  a58db52f-fbba-4e7b-83d0-371efcfed039      0.0  \n",
       "\n",
       "[5 rows x 64 columns]"
      ]
     },
     "execution_count": 236,
     "metadata": {},
     "output_type": "execute_result"
    }
   ],
   "source": [
    "train_df.head()"
   ]
  },
  {
   "cell_type": "markdown",
   "metadata": {},
   "source": [
    "### [1.4]Displaying Dimensions of data frame"
   ]
  },
  {
   "cell_type": "code",
   "execution_count": 237,
   "metadata": {},
   "outputs": [
    {
     "data": {
      "text/plain": [
       "(56091, 64)"
      ]
     },
     "execution_count": 237,
     "metadata": {},
     "output_type": "execute_result"
    }
   ],
   "source": [
    "train_df.shape"
   ]
  },
  {
   "cell_type": "markdown",
   "metadata": {},
   "source": [
    "### [1.5]Summary of data frame"
   ]
  },
  {
   "cell_type": "code",
   "execution_count": 238,
   "metadata": {},
   "outputs": [
    {
     "name": "stdout",
     "output_type": "stream",
     "text": [
      "<class 'pandas.core.frame.DataFrame'>\n",
      "RangeIndex: 56091 entries, 0 to 56090\n",
      "Data columns (total 64 columns):\n",
      " #   Column               Non-Null Count  Dtype  \n",
      "---  ------               --------------  -----  \n",
      " 0   team                 56091 non-null  object \n",
      " 1   conf                 56091 non-null  object \n",
      " 2   GP                   56091 non-null  int64  \n",
      " 3   Min_per              56091 non-null  float64\n",
      " 4   Ortg                 56091 non-null  float64\n",
      " 5   usg                  56091 non-null  float64\n",
      " 6   eFG                  56091 non-null  float64\n",
      " 7   TS_per               56091 non-null  float64\n",
      " 8   ORB_per              56091 non-null  float64\n",
      " 9   DRB_per              56091 non-null  float64\n",
      " 10  AST_per              56091 non-null  float64\n",
      " 11  TO_per               56091 non-null  float64\n",
      " 12  FTM                  56091 non-null  int64  \n",
      " 13  FTA                  56091 non-null  int64  \n",
      " 14  FT_per               56091 non-null  float64\n",
      " 15  twoPM                56091 non-null  int64  \n",
      " 16  twoPA                56091 non-null  int64  \n",
      " 17  twoP_per             56091 non-null  float64\n",
      " 18  TPM                  56091 non-null  int64  \n",
      " 19  TPA                  56091 non-null  int64  \n",
      " 20  TP_per               56091 non-null  float64\n",
      " 21  blk_per              56091 non-null  float64\n",
      " 22  stl_per              56091 non-null  float64\n",
      " 23  ftr                  56091 non-null  float64\n",
      " 24  yr                   55799 non-null  object \n",
      " 25  ht                   55993 non-null  object \n",
      " 26  num                  51401 non-null  object \n",
      " 27  porpag               56091 non-null  float64\n",
      " 28  adjoe                56091 non-null  float64\n",
      " 29  pfr                  56091 non-null  float64\n",
      " 30  year                 56091 non-null  int64  \n",
      " 31  type                 56091 non-null  object \n",
      " 32  Rec_Rank             17036 non-null  float64\n",
      " 33  ast_tov              51901 non-null  float64\n",
      " 34  rimmade              50010 non-null  float64\n",
      " 35  rimmade_rimmiss      50010 non-null  float64\n",
      " 36  midmade              50010 non-null  float64\n",
      " 37  midmade_midmiss      50010 non-null  float64\n",
      " 38  rim_ratio            46627 non-null  float64\n",
      " 39  mid_ratio            46403 non-null  float64\n",
      " 40  dunksmade            50010 non-null  float64\n",
      " 41  dunksmiss_dunksmade  50010 non-null  float64\n",
      " 42  dunks_ratio          25298 non-null  float64\n",
      " 43  pick                 1386 non-null   float64\n",
      " 44  drtg                 56047 non-null  float64\n",
      " 45  adrtg                56047 non-null  float64\n",
      " 46  dporpag              56047 non-null  float64\n",
      " 47  stops                56047 non-null  float64\n",
      " 48  bpm                  56047 non-null  float64\n",
      " 49  obpm                 56047 non-null  float64\n",
      " 50  dbpm                 56047 non-null  float64\n",
      " 51  gbpm                 56047 non-null  float64\n",
      " 52  mp                   56053 non-null  float64\n",
      " 53  ogbpm                56047 non-null  float64\n",
      " 54  dgbpm                56047 non-null  float64\n",
      " 55  oreb                 56053 non-null  float64\n",
      " 56  dreb                 56053 non-null  float64\n",
      " 57  treb                 56053 non-null  float64\n",
      " 58  ast                  56053 non-null  float64\n",
      " 59  stl                  56053 non-null  float64\n",
      " 60  blk                  56053 non-null  float64\n",
      " 61  pts                  56053 non-null  float64\n",
      " 62  player_id            56091 non-null  object \n",
      " 63  drafted              56091 non-null  float64\n",
      "dtypes: float64(49), int64(8), object(7)\n",
      "memory usage: 27.4+ MB\n"
     ]
    }
   ],
   "source": [
    "train_df.info()"
   ]
  },
  {
   "cell_type": "markdown",
   "metadata": {},
   "source": [
    "#### [1.6] Displaying Descriptive Statistics of Data Frame"
   ]
  },
  {
   "cell_type": "code",
   "execution_count": 239,
   "metadata": {},
   "outputs": [
    {
     "data": {
      "text/html": [
       "<div>\n",
       "<style scoped>\n",
       "    .dataframe tbody tr th:only-of-type {\n",
       "        vertical-align: middle;\n",
       "    }\n",
       "\n",
       "    .dataframe tbody tr th {\n",
       "        vertical-align: top;\n",
       "    }\n",
       "\n",
       "    .dataframe thead th {\n",
       "        text-align: right;\n",
       "    }\n",
       "</style>\n",
       "<table border=\"1\" class=\"dataframe\">\n",
       "  <thead>\n",
       "    <tr style=\"text-align: right;\">\n",
       "      <th></th>\n",
       "      <th>team</th>\n",
       "      <th>conf</th>\n",
       "      <th>GP</th>\n",
       "      <th>Min_per</th>\n",
       "      <th>Ortg</th>\n",
       "      <th>usg</th>\n",
       "      <th>eFG</th>\n",
       "      <th>TS_per</th>\n",
       "      <th>ORB_per</th>\n",
       "      <th>DRB_per</th>\n",
       "      <th>...</th>\n",
       "      <th>dgbpm</th>\n",
       "      <th>oreb</th>\n",
       "      <th>dreb</th>\n",
       "      <th>treb</th>\n",
       "      <th>ast</th>\n",
       "      <th>stl</th>\n",
       "      <th>blk</th>\n",
       "      <th>pts</th>\n",
       "      <th>player_id</th>\n",
       "      <th>drafted</th>\n",
       "    </tr>\n",
       "  </thead>\n",
       "  <tbody>\n",
       "    <tr>\n",
       "      <th>count</th>\n",
       "      <td>56091</td>\n",
       "      <td>56091</td>\n",
       "      <td>56091.000000</td>\n",
       "      <td>56091.000000</td>\n",
       "      <td>56091.000000</td>\n",
       "      <td>56091.000000</td>\n",
       "      <td>56091.000000</td>\n",
       "      <td>56091.000000</td>\n",
       "      <td>56091.000000</td>\n",
       "      <td>56091.000000</td>\n",
       "      <td>...</td>\n",
       "      <td>56047.000000</td>\n",
       "      <td>56053.000000</td>\n",
       "      <td>56053.000000</td>\n",
       "      <td>56053.000000</td>\n",
       "      <td>56053.000000</td>\n",
       "      <td>56053.000000</td>\n",
       "      <td>56053.000000</td>\n",
       "      <td>56053.000000</td>\n",
       "      <td>56091</td>\n",
       "      <td>56091.000000</td>\n",
       "    </tr>\n",
       "    <tr>\n",
       "      <th>unique</th>\n",
       "      <td>358</td>\n",
       "      <td>36</td>\n",
       "      <td>NaN</td>\n",
       "      <td>NaN</td>\n",
       "      <td>NaN</td>\n",
       "      <td>NaN</td>\n",
       "      <td>NaN</td>\n",
       "      <td>NaN</td>\n",
       "      <td>NaN</td>\n",
       "      <td>NaN</td>\n",
       "      <td>...</td>\n",
       "      <td>NaN</td>\n",
       "      <td>NaN</td>\n",
       "      <td>NaN</td>\n",
       "      <td>NaN</td>\n",
       "      <td>NaN</td>\n",
       "      <td>NaN</td>\n",
       "      <td>NaN</td>\n",
       "      <td>NaN</td>\n",
       "      <td>23929</td>\n",
       "      <td>NaN</td>\n",
       "    </tr>\n",
       "    <tr>\n",
       "      <th>top</th>\n",
       "      <td>Army</td>\n",
       "      <td>ACC</td>\n",
       "      <td>NaN</td>\n",
       "      <td>NaN</td>\n",
       "      <td>NaN</td>\n",
       "      <td>NaN</td>\n",
       "      <td>NaN</td>\n",
       "      <td>NaN</td>\n",
       "      <td>NaN</td>\n",
       "      <td>NaN</td>\n",
       "      <td>...</td>\n",
       "      <td>NaN</td>\n",
       "      <td>NaN</td>\n",
       "      <td>NaN</td>\n",
       "      <td>NaN</td>\n",
       "      <td>NaN</td>\n",
       "      <td>NaN</td>\n",
       "      <td>NaN</td>\n",
       "      <td>NaN</td>\n",
       "      <td>06dc8dc2-888e-4941-9106-4798cddfb9d2</td>\n",
       "      <td>NaN</td>\n",
       "    </tr>\n",
       "    <tr>\n",
       "      <th>freq</th>\n",
       "      <td>209</td>\n",
       "      <td>2297</td>\n",
       "      <td>NaN</td>\n",
       "      <td>NaN</td>\n",
       "      <td>NaN</td>\n",
       "      <td>NaN</td>\n",
       "      <td>NaN</td>\n",
       "      <td>NaN</td>\n",
       "      <td>NaN</td>\n",
       "      <td>NaN</td>\n",
       "      <td>...</td>\n",
       "      <td>NaN</td>\n",
       "      <td>NaN</td>\n",
       "      <td>NaN</td>\n",
       "      <td>NaN</td>\n",
       "      <td>NaN</td>\n",
       "      <td>NaN</td>\n",
       "      <td>NaN</td>\n",
       "      <td>NaN</td>\n",
       "      <td>6</td>\n",
       "      <td>NaN</td>\n",
       "    </tr>\n",
       "    <tr>\n",
       "      <th>mean</th>\n",
       "      <td>NaN</td>\n",
       "      <td>NaN</td>\n",
       "      <td>23.411973</td>\n",
       "      <td>37.325229</td>\n",
       "      <td>91.858295</td>\n",
       "      <td>18.149265</td>\n",
       "      <td>44.575513</td>\n",
       "      <td>47.676882</td>\n",
       "      <td>5.575376</td>\n",
       "      <td>12.673716</td>\n",
       "      <td>...</td>\n",
       "      <td>-0.442297</td>\n",
       "      <td>0.770611</td>\n",
       "      <td>1.892593</td>\n",
       "      <td>2.663204</td>\n",
       "      <td>1.073038</td>\n",
       "      <td>0.529475</td>\n",
       "      <td>0.282825</td>\n",
       "      <td>5.775381</td>\n",
       "      <td>NaN</td>\n",
       "      <td>0.009556</td>\n",
       "    </tr>\n",
       "    <tr>\n",
       "      <th>std</th>\n",
       "      <td>NaN</td>\n",
       "      <td>NaN</td>\n",
       "      <td>10.090542</td>\n",
       "      <td>28.061897</td>\n",
       "      <td>30.538819</td>\n",
       "      <td>6.204489</td>\n",
       "      <td>18.213813</td>\n",
       "      <td>17.414133</td>\n",
       "      <td>9.480239</td>\n",
       "      <td>10.878099</td>\n",
       "      <td>...</td>\n",
       "      <td>3.279438</td>\n",
       "      <td>0.738899</td>\n",
       "      <td>1.479148</td>\n",
       "      <td>2.099913</td>\n",
       "      <td>1.171148</td>\n",
       "      <td>0.469152</td>\n",
       "      <td>0.417754</td>\n",
       "      <td>4.953723</td>\n",
       "      <td>NaN</td>\n",
       "      <td>0.097287</td>\n",
       "    </tr>\n",
       "    <tr>\n",
       "      <th>min</th>\n",
       "      <td>NaN</td>\n",
       "      <td>NaN</td>\n",
       "      <td>1.000000</td>\n",
       "      <td>0.000000</td>\n",
       "      <td>0.000000</td>\n",
       "      <td>0.000000</td>\n",
       "      <td>0.000000</td>\n",
       "      <td>0.000000</td>\n",
       "      <td>0.000000</td>\n",
       "      <td>0.000000</td>\n",
       "      <td>...</td>\n",
       "      <td>-100.984000</td>\n",
       "      <td>0.000000</td>\n",
       "      <td>0.000000</td>\n",
       "      <td>0.000000</td>\n",
       "      <td>0.000000</td>\n",
       "      <td>0.000000</td>\n",
       "      <td>0.000000</td>\n",
       "      <td>0.000000</td>\n",
       "      <td>NaN</td>\n",
       "      <td>0.000000</td>\n",
       "    </tr>\n",
       "    <tr>\n",
       "      <th>25%</th>\n",
       "      <td>NaN</td>\n",
       "      <td>NaN</td>\n",
       "      <td>16.000000</td>\n",
       "      <td>9.500000</td>\n",
       "      <td>84.100000</td>\n",
       "      <td>14.500000</td>\n",
       "      <td>40.100000</td>\n",
       "      <td>43.930000</td>\n",
       "      <td>1.800000</td>\n",
       "      <td>8.400000</td>\n",
       "      <td>...</td>\n",
       "      <td>-1.728030</td>\n",
       "      <td>0.225800</td>\n",
       "      <td>0.700000</td>\n",
       "      <td>1.000000</td>\n",
       "      <td>0.222200</td>\n",
       "      <td>0.160000</td>\n",
       "      <td>0.000000</td>\n",
       "      <td>1.571400</td>\n",
       "      <td>NaN</td>\n",
       "      <td>0.000000</td>\n",
       "    </tr>\n",
       "    <tr>\n",
       "      <th>50%</th>\n",
       "      <td>NaN</td>\n",
       "      <td>NaN</td>\n",
       "      <td>28.000000</td>\n",
       "      <td>35.900000</td>\n",
       "      <td>97.100000</td>\n",
       "      <td>18.100000</td>\n",
       "      <td>47.700000</td>\n",
       "      <td>50.850000</td>\n",
       "      <td>4.300000</td>\n",
       "      <td>11.900000</td>\n",
       "      <td>...</td>\n",
       "      <td>-0.313051</td>\n",
       "      <td>0.545500</td>\n",
       "      <td>1.633300</td>\n",
       "      <td>2.259300</td>\n",
       "      <td>0.677400</td>\n",
       "      <td>0.424200</td>\n",
       "      <td>0.133300</td>\n",
       "      <td>4.482800</td>\n",
       "      <td>NaN</td>\n",
       "      <td>0.000000</td>\n",
       "    </tr>\n",
       "    <tr>\n",
       "      <th>75%</th>\n",
       "      <td>NaN</td>\n",
       "      <td>NaN</td>\n",
       "      <td>31.000000</td>\n",
       "      <td>62.200000</td>\n",
       "      <td>106.900000</td>\n",
       "      <td>21.800000</td>\n",
       "      <td>53.200000</td>\n",
       "      <td>56.060000</td>\n",
       "      <td>8.100000</td>\n",
       "      <td>16.000000</td>\n",
       "      <td>...</td>\n",
       "      <td>1.066415</td>\n",
       "      <td>1.111100</td>\n",
       "      <td>2.758600</td>\n",
       "      <td>3.833300</td>\n",
       "      <td>1.533300</td>\n",
       "      <td>0.793100</td>\n",
       "      <td>0.366700</td>\n",
       "      <td>9.069000</td>\n",
       "      <td>NaN</td>\n",
       "      <td>0.000000</td>\n",
       "    </tr>\n",
       "    <tr>\n",
       "      <th>max</th>\n",
       "      <td>NaN</td>\n",
       "      <td>NaN</td>\n",
       "      <td>41.000000</td>\n",
       "      <td>98.000000</td>\n",
       "      <td>834.000000</td>\n",
       "      <td>50.000000</td>\n",
       "      <td>150.000000</td>\n",
       "      <td>150.000000</td>\n",
       "      <td>1576.600000</td>\n",
       "      <td>1385.000000</td>\n",
       "      <td>...</td>\n",
       "      <td>78.985500</td>\n",
       "      <td>5.933300</td>\n",
       "      <td>11.545500</td>\n",
       "      <td>14.533300</td>\n",
       "      <td>10.000000</td>\n",
       "      <td>4.000000</td>\n",
       "      <td>5.258100</td>\n",
       "      <td>30.090900</td>\n",
       "      <td>NaN</td>\n",
       "      <td>1.000000</td>\n",
       "    </tr>\n",
       "  </tbody>\n",
       "</table>\n",
       "<p>11 rows × 64 columns</p>\n",
       "</div>"
      ],
      "text/plain": [
       "         team   conf            GP       Min_per          Ortg           usg   \n",
       "count   56091  56091  56091.000000  56091.000000  56091.000000  56091.000000  \\\n",
       "unique    358     36           NaN           NaN           NaN           NaN   \n",
       "top      Army    ACC           NaN           NaN           NaN           NaN   \n",
       "freq      209   2297           NaN           NaN           NaN           NaN   \n",
       "mean      NaN    NaN     23.411973     37.325229     91.858295     18.149265   \n",
       "std       NaN    NaN     10.090542     28.061897     30.538819      6.204489   \n",
       "min       NaN    NaN      1.000000      0.000000      0.000000      0.000000   \n",
       "25%       NaN    NaN     16.000000      9.500000     84.100000     14.500000   \n",
       "50%       NaN    NaN     28.000000     35.900000     97.100000     18.100000   \n",
       "75%       NaN    NaN     31.000000     62.200000    106.900000     21.800000   \n",
       "max       NaN    NaN     41.000000     98.000000    834.000000     50.000000   \n",
       "\n",
       "                 eFG        TS_per       ORB_per       DRB_per  ...   \n",
       "count   56091.000000  56091.000000  56091.000000  56091.000000  ...  \\\n",
       "unique           NaN           NaN           NaN           NaN  ...   \n",
       "top              NaN           NaN           NaN           NaN  ...   \n",
       "freq             NaN           NaN           NaN           NaN  ...   \n",
       "mean       44.575513     47.676882      5.575376     12.673716  ...   \n",
       "std        18.213813     17.414133      9.480239     10.878099  ...   \n",
       "min         0.000000      0.000000      0.000000      0.000000  ...   \n",
       "25%        40.100000     43.930000      1.800000      8.400000  ...   \n",
       "50%        47.700000     50.850000      4.300000     11.900000  ...   \n",
       "75%        53.200000     56.060000      8.100000     16.000000  ...   \n",
       "max       150.000000    150.000000   1576.600000   1385.000000  ...   \n",
       "\n",
       "               dgbpm          oreb          dreb          treb           ast   \n",
       "count   56047.000000  56053.000000  56053.000000  56053.000000  56053.000000  \\\n",
       "unique           NaN           NaN           NaN           NaN           NaN   \n",
       "top              NaN           NaN           NaN           NaN           NaN   \n",
       "freq             NaN           NaN           NaN           NaN           NaN   \n",
       "mean       -0.442297      0.770611      1.892593      2.663204      1.073038   \n",
       "std         3.279438      0.738899      1.479148      2.099913      1.171148   \n",
       "min      -100.984000      0.000000      0.000000      0.000000      0.000000   \n",
       "25%        -1.728030      0.225800      0.700000      1.000000      0.222200   \n",
       "50%        -0.313051      0.545500      1.633300      2.259300      0.677400   \n",
       "75%         1.066415      1.111100      2.758600      3.833300      1.533300   \n",
       "max        78.985500      5.933300     11.545500     14.533300     10.000000   \n",
       "\n",
       "                 stl           blk           pts   \n",
       "count   56053.000000  56053.000000  56053.000000  \\\n",
       "unique           NaN           NaN           NaN   \n",
       "top              NaN           NaN           NaN   \n",
       "freq             NaN           NaN           NaN   \n",
       "mean        0.529475      0.282825      5.775381   \n",
       "std         0.469152      0.417754      4.953723   \n",
       "min         0.000000      0.000000      0.000000   \n",
       "25%         0.160000      0.000000      1.571400   \n",
       "50%         0.424200      0.133300      4.482800   \n",
       "75%         0.793100      0.366700      9.069000   \n",
       "max         4.000000      5.258100     30.090900   \n",
       "\n",
       "                                   player_id       drafted  \n",
       "count                                  56091  56091.000000  \n",
       "unique                                 23929           NaN  \n",
       "top     06dc8dc2-888e-4941-9106-4798cddfb9d2           NaN  \n",
       "freq                                       6           NaN  \n",
       "mean                                     NaN      0.009556  \n",
       "std                                      NaN      0.097287  \n",
       "min                                      NaN      0.000000  \n",
       "25%                                      NaN      0.000000  \n",
       "50%                                      NaN      0.000000  \n",
       "75%                                      NaN      0.000000  \n",
       "max                                      NaN      1.000000  \n",
       "\n",
       "[11 rows x 64 columns]"
      ]
     },
     "execution_count": 239,
     "metadata": {},
     "output_type": "execute_result"
    }
   ],
   "source": [
    "train_df.describe(include = 'all')"
   ]
  },
  {
   "cell_type": "markdown",
   "metadata": {},
   "source": [
    "## 2. Data Processing"
   ]
  },
  {
   "cell_type": "markdown",
   "metadata": {},
   "source": [
    "### [2.1] Creating a copy of train and test dataframe as clean_train_df and test_df"
   ]
  },
  {
   "cell_type": "code",
   "execution_count": 240,
   "metadata": {},
   "outputs": [],
   "source": [
    "cleaned_train_df_=train_df.copy()\n"
   ]
  },
  {
   "cell_type": "code",
   "execution_count": 241,
   "metadata": {},
   "outputs": [],
   "source": [
    "cleaned_test_df = test_df.copy()"
   ]
  },
  {
   "cell_type": "markdown",
   "metadata": {},
   "source": [
    "### [2.1] Dropping columns from training and testing sets"
   ]
  },
  {
   "cell_type": "code",
   "execution_count": 242,
   "metadata": {},
   "outputs": [
    {
     "data": {
      "text/html": [
       "<div>\n",
       "<style scoped>\n",
       "    .dataframe tbody tr th:only-of-type {\n",
       "        vertical-align: middle;\n",
       "    }\n",
       "\n",
       "    .dataframe tbody tr th {\n",
       "        vertical-align: top;\n",
       "    }\n",
       "\n",
       "    .dataframe thead th {\n",
       "        text-align: right;\n",
       "    }\n",
       "</style>\n",
       "<table border=\"1\" class=\"dataframe\">\n",
       "  <thead>\n",
       "    <tr style=\"text-align: right;\">\n",
       "      <th></th>\n",
       "      <th>GP</th>\n",
       "      <th>Min_per</th>\n",
       "      <th>Ortg</th>\n",
       "      <th>usg</th>\n",
       "      <th>eFG</th>\n",
       "      <th>TS_per</th>\n",
       "      <th>ORB_per</th>\n",
       "      <th>DRB_per</th>\n",
       "      <th>AST_per</th>\n",
       "      <th>TO_per</th>\n",
       "      <th>...</th>\n",
       "      <th>ogbpm</th>\n",
       "      <th>dgbpm</th>\n",
       "      <th>oreb</th>\n",
       "      <th>dreb</th>\n",
       "      <th>treb</th>\n",
       "      <th>ast</th>\n",
       "      <th>stl</th>\n",
       "      <th>blk</th>\n",
       "      <th>pts</th>\n",
       "      <th>drafted</th>\n",
       "    </tr>\n",
       "  </thead>\n",
       "  <tbody>\n",
       "    <tr>\n",
       "      <th>0</th>\n",
       "      <td>26</td>\n",
       "      <td>29.5</td>\n",
       "      <td>97.3</td>\n",
       "      <td>16.6</td>\n",
       "      <td>42.5</td>\n",
       "      <td>44.43</td>\n",
       "      <td>1.6</td>\n",
       "      <td>4.6</td>\n",
       "      <td>15.8</td>\n",
       "      <td>16.3</td>\n",
       "      <td>...</td>\n",
       "      <td>-2.781990</td>\n",
       "      <td>-1.941150</td>\n",
       "      <td>0.1923</td>\n",
       "      <td>0.6154</td>\n",
       "      <td>0.8077</td>\n",
       "      <td>1.1923</td>\n",
       "      <td>0.3462</td>\n",
       "      <td>0.0385</td>\n",
       "      <td>3.8846</td>\n",
       "      <td>0.0</td>\n",
       "    </tr>\n",
       "    <tr>\n",
       "      <th>1</th>\n",
       "      <td>34</td>\n",
       "      <td>60.9</td>\n",
       "      <td>108.3</td>\n",
       "      <td>14.9</td>\n",
       "      <td>52.4</td>\n",
       "      <td>54.48</td>\n",
       "      <td>3.8</td>\n",
       "      <td>6.3</td>\n",
       "      <td>13.6</td>\n",
       "      <td>19.8</td>\n",
       "      <td>...</td>\n",
       "      <td>-0.052263</td>\n",
       "      <td>-0.247934</td>\n",
       "      <td>0.6765</td>\n",
       "      <td>1.2647</td>\n",
       "      <td>1.9412</td>\n",
       "      <td>1.8235</td>\n",
       "      <td>0.4118</td>\n",
       "      <td>0.2353</td>\n",
       "      <td>5.9412</td>\n",
       "      <td>0.0</td>\n",
       "    </tr>\n",
       "    <tr>\n",
       "      <th>2</th>\n",
       "      <td>27</td>\n",
       "      <td>72.0</td>\n",
       "      <td>96.2</td>\n",
       "      <td>21.8</td>\n",
       "      <td>45.7</td>\n",
       "      <td>47.98</td>\n",
       "      <td>2.1</td>\n",
       "      <td>8.0</td>\n",
       "      <td>14.7</td>\n",
       "      <td>15.9</td>\n",
       "      <td>...</td>\n",
       "      <td>1.548230</td>\n",
       "      <td>-0.883163</td>\n",
       "      <td>0.6296</td>\n",
       "      <td>2.3333</td>\n",
       "      <td>2.9630</td>\n",
       "      <td>1.9630</td>\n",
       "      <td>0.4815</td>\n",
       "      <td>0.0000</td>\n",
       "      <td>12.1852</td>\n",
       "      <td>0.0</td>\n",
       "    </tr>\n",
       "    <tr>\n",
       "      <th>3</th>\n",
       "      <td>30</td>\n",
       "      <td>44.5</td>\n",
       "      <td>97.7</td>\n",
       "      <td>16.0</td>\n",
       "      <td>53.6</td>\n",
       "      <td>53.69</td>\n",
       "      <td>4.1</td>\n",
       "      <td>9.4</td>\n",
       "      <td>13.7</td>\n",
       "      <td>23.8</td>\n",
       "      <td>...</td>\n",
       "      <td>-0.342775</td>\n",
       "      <td>-0.393459</td>\n",
       "      <td>0.7000</td>\n",
       "      <td>1.4333</td>\n",
       "      <td>2.1333</td>\n",
       "      <td>1.1000</td>\n",
       "      <td>0.5667</td>\n",
       "      <td>0.1333</td>\n",
       "      <td>4.9333</td>\n",
       "      <td>0.0</td>\n",
       "    </tr>\n",
       "    <tr>\n",
       "      <th>4</th>\n",
       "      <td>33</td>\n",
       "      <td>56.2</td>\n",
       "      <td>96.5</td>\n",
       "      <td>22.0</td>\n",
       "      <td>52.8</td>\n",
       "      <td>54.31</td>\n",
       "      <td>8.3</td>\n",
       "      <td>18.6</td>\n",
       "      <td>8.2</td>\n",
       "      <td>22.7</td>\n",
       "      <td>...</td>\n",
       "      <td>-1.684860</td>\n",
       "      <td>-0.668318</td>\n",
       "      <td>1.4242</td>\n",
       "      <td>3.3030</td>\n",
       "      <td>4.7273</td>\n",
       "      <td>0.8485</td>\n",
       "      <td>0.4545</td>\n",
       "      <td>0.3333</td>\n",
       "      <td>7.5758</td>\n",
       "      <td>0.0</td>\n",
       "    </tr>\n",
       "    <tr>\n",
       "      <th>...</th>\n",
       "      <td>...</td>\n",
       "      <td>...</td>\n",
       "      <td>...</td>\n",
       "      <td>...</td>\n",
       "      <td>...</td>\n",
       "      <td>...</td>\n",
       "      <td>...</td>\n",
       "      <td>...</td>\n",
       "      <td>...</td>\n",
       "      <td>...</td>\n",
       "      <td>...</td>\n",
       "      <td>...</td>\n",
       "      <td>...</td>\n",
       "      <td>...</td>\n",
       "      <td>...</td>\n",
       "      <td>...</td>\n",
       "      <td>...</td>\n",
       "      <td>...</td>\n",
       "      <td>...</td>\n",
       "      <td>...</td>\n",
       "      <td>...</td>\n",
       "    </tr>\n",
       "    <tr>\n",
       "      <th>56086</th>\n",
       "      <td>1</td>\n",
       "      <td>0.1</td>\n",
       "      <td>0.0</td>\n",
       "      <td>48.9</td>\n",
       "      <td>0.0</td>\n",
       "      <td>0.00</td>\n",
       "      <td>0.0</td>\n",
       "      <td>0.0</td>\n",
       "      <td>0.0</td>\n",
       "      <td>0.0</td>\n",
       "      <td>...</td>\n",
       "      <td>-22.468800</td>\n",
       "      <td>-17.439600</td>\n",
       "      <td>0.0000</td>\n",
       "      <td>0.0000</td>\n",
       "      <td>0.0000</td>\n",
       "      <td>0.0000</td>\n",
       "      <td>0.0000</td>\n",
       "      <td>0.0000</td>\n",
       "      <td>0.0000</td>\n",
       "      <td>0.0</td>\n",
       "    </tr>\n",
       "    <tr>\n",
       "      <th>56087</th>\n",
       "      <td>1</td>\n",
       "      <td>0.2</td>\n",
       "      <td>206.9</td>\n",
       "      <td>35.9</td>\n",
       "      <td>100.0</td>\n",
       "      <td>102.56</td>\n",
       "      <td>0.0</td>\n",
       "      <td>0.0</td>\n",
       "      <td>0.0</td>\n",
       "      <td>0.0</td>\n",
       "      <td>...</td>\n",
       "      <td>35.683300</td>\n",
       "      <td>9.392350</td>\n",
       "      <td>0.0000</td>\n",
       "      <td>0.0000</td>\n",
       "      <td>0.0000</td>\n",
       "      <td>0.0000</td>\n",
       "      <td>0.0000</td>\n",
       "      <td>0.0000</td>\n",
       "      <td>4.0000</td>\n",
       "      <td>0.0</td>\n",
       "    </tr>\n",
       "    <tr>\n",
       "      <th>56088</th>\n",
       "      <td>1</td>\n",
       "      <td>0.6</td>\n",
       "      <td>48.5</td>\n",
       "      <td>28.9</td>\n",
       "      <td>0.0</td>\n",
       "      <td>52.63</td>\n",
       "      <td>0.0</td>\n",
       "      <td>15.9</td>\n",
       "      <td>0.0</td>\n",
       "      <td>52.9</td>\n",
       "      <td>...</td>\n",
       "      <td>-13.372700</td>\n",
       "      <td>-3.240610</td>\n",
       "      <td>0.0000</td>\n",
       "      <td>1.0000</td>\n",
       "      <td>1.0000</td>\n",
       "      <td>0.0000</td>\n",
       "      <td>0.0000</td>\n",
       "      <td>0.0000</td>\n",
       "      <td>2.0000</td>\n",
       "      <td>0.0</td>\n",
       "    </tr>\n",
       "    <tr>\n",
       "      <th>56089</th>\n",
       "      <td>1</td>\n",
       "      <td>0.1</td>\n",
       "      <td>300.0</td>\n",
       "      <td>20.0</td>\n",
       "      <td>150.0</td>\n",
       "      <td>150.00</td>\n",
       "      <td>0.0</td>\n",
       "      <td>0.0</td>\n",
       "      <td>0.0</td>\n",
       "      <td>0.0</td>\n",
       "      <td>...</td>\n",
       "      <td>94.422600</td>\n",
       "      <td>16.362500</td>\n",
       "      <td>0.0000</td>\n",
       "      <td>0.0000</td>\n",
       "      <td>0.0000</td>\n",
       "      <td>0.0000</td>\n",
       "      <td>0.0000</td>\n",
       "      <td>0.0000</td>\n",
       "      <td>3.0000</td>\n",
       "      <td>0.0</td>\n",
       "    </tr>\n",
       "    <tr>\n",
       "      <th>56090</th>\n",
       "      <td>19</td>\n",
       "      <td>21.9</td>\n",
       "      <td>55.0</td>\n",
       "      <td>16.4</td>\n",
       "      <td>24.5</td>\n",
       "      <td>30.60</td>\n",
       "      <td>0.6</td>\n",
       "      <td>7.2</td>\n",
       "      <td>9.1</td>\n",
       "      <td>26.1</td>\n",
       "      <td>...</td>\n",
       "      <td>-7.806150</td>\n",
       "      <td>-4.935520</td>\n",
       "      <td>0.0455</td>\n",
       "      <td>0.9091</td>\n",
       "      <td>0.9545</td>\n",
       "      <td>0.5909</td>\n",
       "      <td>0.4091</td>\n",
       "      <td>0.0000</td>\n",
       "      <td>2.4091</td>\n",
       "      <td>0.0</td>\n",
       "    </tr>\n",
       "  </tbody>\n",
       "</table>\n",
       "<p>56091 rows × 51 columns</p>\n",
       "</div>"
      ],
      "text/plain": [
       "       GP  Min_per   Ortg   usg    eFG  TS_per  ORB_per  DRB_per  AST_per   \n",
       "0      26     29.5   97.3  16.6   42.5   44.43      1.6      4.6     15.8  \\\n",
       "1      34     60.9  108.3  14.9   52.4   54.48      3.8      6.3     13.6   \n",
       "2      27     72.0   96.2  21.8   45.7   47.98      2.1      8.0     14.7   \n",
       "3      30     44.5   97.7  16.0   53.6   53.69      4.1      9.4     13.7   \n",
       "4      33     56.2   96.5  22.0   52.8   54.31      8.3     18.6      8.2   \n",
       "...    ..      ...    ...   ...    ...     ...      ...      ...      ...   \n",
       "56086   1      0.1    0.0  48.9    0.0    0.00      0.0      0.0      0.0   \n",
       "56087   1      0.2  206.9  35.9  100.0  102.56      0.0      0.0      0.0   \n",
       "56088   1      0.6   48.5  28.9    0.0   52.63      0.0     15.9      0.0   \n",
       "56089   1      0.1  300.0  20.0  150.0  150.00      0.0      0.0      0.0   \n",
       "56090  19     21.9   55.0  16.4   24.5   30.60      0.6      7.2      9.1   \n",
       "\n",
       "       TO_per  ...      ogbpm      dgbpm    oreb    dreb    treb     ast   \n",
       "0        16.3  ...  -2.781990  -1.941150  0.1923  0.6154  0.8077  1.1923  \\\n",
       "1        19.8  ...  -0.052263  -0.247934  0.6765  1.2647  1.9412  1.8235   \n",
       "2        15.9  ...   1.548230  -0.883163  0.6296  2.3333  2.9630  1.9630   \n",
       "3        23.8  ...  -0.342775  -0.393459  0.7000  1.4333  2.1333  1.1000   \n",
       "4        22.7  ...  -1.684860  -0.668318  1.4242  3.3030  4.7273  0.8485   \n",
       "...       ...  ...        ...        ...     ...     ...     ...     ...   \n",
       "56086     0.0  ... -22.468800 -17.439600  0.0000  0.0000  0.0000  0.0000   \n",
       "56087     0.0  ...  35.683300   9.392350  0.0000  0.0000  0.0000  0.0000   \n",
       "56088    52.9  ... -13.372700  -3.240610  0.0000  1.0000  1.0000  0.0000   \n",
       "56089     0.0  ...  94.422600  16.362500  0.0000  0.0000  0.0000  0.0000   \n",
       "56090    26.1  ...  -7.806150  -4.935520  0.0455  0.9091  0.9545  0.5909   \n",
       "\n",
       "          stl     blk      pts  drafted  \n",
       "0      0.3462  0.0385   3.8846      0.0  \n",
       "1      0.4118  0.2353   5.9412      0.0  \n",
       "2      0.4815  0.0000  12.1852      0.0  \n",
       "3      0.5667  0.1333   4.9333      0.0  \n",
       "4      0.4545  0.3333   7.5758      0.0  \n",
       "...       ...     ...      ...      ...  \n",
       "56086  0.0000  0.0000   0.0000      0.0  \n",
       "56087  0.0000  0.0000   4.0000      0.0  \n",
       "56088  0.0000  0.0000   2.0000      0.0  \n",
       "56089  0.0000  0.0000   3.0000      0.0  \n",
       "56090  0.4091  0.0000   2.4091      0.0  \n",
       "\n",
       "[56091 rows x 51 columns]"
      ]
     },
     "execution_count": 242,
     "metadata": {},
     "output_type": "execute_result"
    }
   ],
   "source": [
    "train_droplist=['team','conf', 'stl_per','yr','ht','num', 'porpag','adjoe', 'year','type','adrtg','dporpag', 'player_id']\n",
    "cleaned_train_df= cleaned_train_df_.drop(columns=train_droplist)\n",
    "cleaned_train_df"
   ]
  },
  {
   "cell_type": "code",
   "execution_count": 243,
   "metadata": {},
   "outputs": [
    {
     "data": {
      "text/plain": [
       "Index(['GP', 'Min_per', 'Ortg', 'usg', 'eFG', 'TS_per', 'ORB_per', 'DRB_per',\n",
       "       'AST_per', 'TO_per', 'FTM', 'FTA', 'FT_per', 'twoPM', 'twoPA',\n",
       "       'twoP_per', 'TPM', 'TPA', 'TP_per', 'blk_per', 'ftr', 'pfr', 'Rec_Rank',\n",
       "       'ast_tov', 'rimmade', 'rimmade_rimmiss', 'midmade', 'midmade_midmiss',\n",
       "       'rim_ratio', 'mid_ratio', 'dunksmade', 'dunksmiss_dunksmade',\n",
       "       'dunks_ratio', 'pick', 'drtg', 'stops', 'bpm', 'obpm', 'dbpm', 'gbpm',\n",
       "       'mp', 'ogbpm', 'dgbpm', 'oreb', 'dreb', 'treb', 'ast', 'stl', 'blk',\n",
       "       'pts', 'drafted'],\n",
       "      dtype='object')"
      ]
     },
     "execution_count": 243,
     "metadata": {},
     "output_type": "execute_result"
    }
   ],
   "source": [
    "cleaned_train_df.columns"
   ]
  },
  {
   "cell_type": "code",
   "execution_count": 244,
   "metadata": {},
   "outputs": [
    {
     "name": "stdout",
     "output_type": "stream",
     "text": [
      "<class 'pandas.core.frame.DataFrame'>\n",
      "RangeIndex: 56091 entries, 0 to 56090\n",
      "Data columns (total 51 columns):\n",
      " #   Column               Non-Null Count  Dtype  \n",
      "---  ------               --------------  -----  \n",
      " 0   GP                   56091 non-null  int64  \n",
      " 1   Min_per              56091 non-null  float64\n",
      " 2   Ortg                 56091 non-null  float64\n",
      " 3   usg                  56091 non-null  float64\n",
      " 4   eFG                  56091 non-null  float64\n",
      " 5   TS_per               56091 non-null  float64\n",
      " 6   ORB_per              56091 non-null  float64\n",
      " 7   DRB_per              56091 non-null  float64\n",
      " 8   AST_per              56091 non-null  float64\n",
      " 9   TO_per               56091 non-null  float64\n",
      " 10  FTM                  56091 non-null  int64  \n",
      " 11  FTA                  56091 non-null  int64  \n",
      " 12  FT_per               56091 non-null  float64\n",
      " 13  twoPM                56091 non-null  int64  \n",
      " 14  twoPA                56091 non-null  int64  \n",
      " 15  twoP_per             56091 non-null  float64\n",
      " 16  TPM                  56091 non-null  int64  \n",
      " 17  TPA                  56091 non-null  int64  \n",
      " 18  TP_per               56091 non-null  float64\n",
      " 19  blk_per              56091 non-null  float64\n",
      " 20  ftr                  56091 non-null  float64\n",
      " 21  pfr                  56091 non-null  float64\n",
      " 22  Rec_Rank             17036 non-null  float64\n",
      " 23  ast_tov              51901 non-null  float64\n",
      " 24  rimmade              50010 non-null  float64\n",
      " 25  rimmade_rimmiss      50010 non-null  float64\n",
      " 26  midmade              50010 non-null  float64\n",
      " 27  midmade_midmiss      50010 non-null  float64\n",
      " 28  rim_ratio            46627 non-null  float64\n",
      " 29  mid_ratio            46403 non-null  float64\n",
      " 30  dunksmade            50010 non-null  float64\n",
      " 31  dunksmiss_dunksmade  50010 non-null  float64\n",
      " 32  dunks_ratio          25298 non-null  float64\n",
      " 33  pick                 1386 non-null   float64\n",
      " 34  drtg                 56047 non-null  float64\n",
      " 35  stops                56047 non-null  float64\n",
      " 36  bpm                  56047 non-null  float64\n",
      " 37  obpm                 56047 non-null  float64\n",
      " 38  dbpm                 56047 non-null  float64\n",
      " 39  gbpm                 56047 non-null  float64\n",
      " 40  mp                   56053 non-null  float64\n",
      " 41  ogbpm                56047 non-null  float64\n",
      " 42  dgbpm                56047 non-null  float64\n",
      " 43  oreb                 56053 non-null  float64\n",
      " 44  dreb                 56053 non-null  float64\n",
      " 45  treb                 56053 non-null  float64\n",
      " 46  ast                  56053 non-null  float64\n",
      " 47  stl                  56053 non-null  float64\n",
      " 48  blk                  56053 non-null  float64\n",
      " 49  pts                  56053 non-null  float64\n",
      " 50  drafted              56091 non-null  float64\n",
      "dtypes: float64(44), int64(7)\n",
      "memory usage: 21.8 MB\n"
     ]
    }
   ],
   "source": [
    "cleaned_train_df.info()"
   ]
  },
  {
   "cell_type": "code",
   "execution_count": 245,
   "metadata": {},
   "outputs": [
    {
     "data": {
      "text/plain": [
       "(56091, 51)"
      ]
     },
     "execution_count": 245,
     "metadata": {},
     "output_type": "execute_result"
    }
   ],
   "source": [
    "cleaned_train_df.shape"
   ]
  },
  {
   "cell_type": "code",
   "execution_count": 246,
   "metadata": {},
   "outputs": [
    {
     "data": {
      "text/html": [
       "<div>\n",
       "<style scoped>\n",
       "    .dataframe tbody tr th:only-of-type {\n",
       "        vertical-align: middle;\n",
       "    }\n",
       "\n",
       "    .dataframe tbody tr th {\n",
       "        vertical-align: top;\n",
       "    }\n",
       "\n",
       "    .dataframe thead th {\n",
       "        text-align: right;\n",
       "    }\n",
       "</style>\n",
       "<table border=\"1\" class=\"dataframe\">\n",
       "  <thead>\n",
       "    <tr style=\"text-align: right;\">\n",
       "      <th></th>\n",
       "      <th>GP</th>\n",
       "      <th>Min_per</th>\n",
       "      <th>Ortg</th>\n",
       "      <th>usg</th>\n",
       "      <th>eFG</th>\n",
       "      <th>TS_per</th>\n",
       "      <th>ORB_per</th>\n",
       "      <th>DRB_per</th>\n",
       "      <th>AST_per</th>\n",
       "      <th>TO_per</th>\n",
       "      <th>...</th>\n",
       "      <th>mp</th>\n",
       "      <th>ogbpm</th>\n",
       "      <th>dgbpm</th>\n",
       "      <th>oreb</th>\n",
       "      <th>dreb</th>\n",
       "      <th>treb</th>\n",
       "      <th>ast</th>\n",
       "      <th>stl</th>\n",
       "      <th>blk</th>\n",
       "      <th>pts</th>\n",
       "    </tr>\n",
       "  </thead>\n",
       "  <tbody>\n",
       "    <tr>\n",
       "      <th>0</th>\n",
       "      <td>2</td>\n",
       "      <td>3.0</td>\n",
       "      <td>115.1</td>\n",
       "      <td>4.7</td>\n",
       "      <td>50.0</td>\n",
       "      <td>50.00</td>\n",
       "      <td>0.0</td>\n",
       "      <td>4.6</td>\n",
       "      <td>0.0</td>\n",
       "      <td>0.0</td>\n",
       "      <td>...</td>\n",
       "      <td>10.0000</td>\n",
       "      <td>-2.467740</td>\n",
       "      <td>-2.275660</td>\n",
       "      <td>0.0000</td>\n",
       "      <td>0.3333</td>\n",
       "      <td>0.3333</td>\n",
       "      <td>0.0000</td>\n",
       "      <td>0.0000</td>\n",
       "      <td>0.0000</td>\n",
       "      <td>1.0000</td>\n",
       "    </tr>\n",
       "    <tr>\n",
       "      <th>1</th>\n",
       "      <td>11</td>\n",
       "      <td>17.6</td>\n",
       "      <td>61.1</td>\n",
       "      <td>18.6</td>\n",
       "      <td>34.7</td>\n",
       "      <td>35.18</td>\n",
       "      <td>2.5</td>\n",
       "      <td>15.7</td>\n",
       "      <td>8.1</td>\n",
       "      <td>30.4</td>\n",
       "      <td>...</td>\n",
       "      <td>11.5455</td>\n",
       "      <td>-7.494720</td>\n",
       "      <td>-4.412530</td>\n",
       "      <td>0.2727</td>\n",
       "      <td>1.4545</td>\n",
       "      <td>1.7273</td>\n",
       "      <td>0.4545</td>\n",
       "      <td>0.1818</td>\n",
       "      <td>0.0000</td>\n",
       "      <td>2.3636</td>\n",
       "    </tr>\n",
       "    <tr>\n",
       "      <th>2</th>\n",
       "      <td>9</td>\n",
       "      <td>28.6</td>\n",
       "      <td>91.9</td>\n",
       "      <td>23.8</td>\n",
       "      <td>54.1</td>\n",
       "      <td>52.49</td>\n",
       "      <td>6.4</td>\n",
       "      <td>22.5</td>\n",
       "      <td>10.0</td>\n",
       "      <td>21.9</td>\n",
       "      <td>...</td>\n",
       "      <td>23.3333</td>\n",
       "      <td>-2.924950</td>\n",
       "      <td>1.717890</td>\n",
       "      <td>1.3333</td>\n",
       "      <td>4.4444</td>\n",
       "      <td>5.7778</td>\n",
       "      <td>1.0000</td>\n",
       "      <td>0.6667</td>\n",
       "      <td>1.8889</td>\n",
       "      <td>8.8889</td>\n",
       "    </tr>\n",
       "    <tr>\n",
       "      <th>3</th>\n",
       "      <td>7</td>\n",
       "      <td>1.3</td>\n",
       "      <td>111.0</td>\n",
       "      <td>10.4</td>\n",
       "      <td>83.3</td>\n",
       "      <td>83.33</td>\n",
       "      <td>0.0</td>\n",
       "      <td>13.4</td>\n",
       "      <td>0.0</td>\n",
       "      <td>33.6</td>\n",
       "      <td>...</td>\n",
       "      <td>2.2857</td>\n",
       "      <td>-0.767911</td>\n",
       "      <td>0.962469</td>\n",
       "      <td>0.0000</td>\n",
       "      <td>0.2857</td>\n",
       "      <td>0.2857</td>\n",
       "      <td>0.0000</td>\n",
       "      <td>0.0000</td>\n",
       "      <td>0.0000</td>\n",
       "      <td>0.7143</td>\n",
       "    </tr>\n",
       "    <tr>\n",
       "      <th>4</th>\n",
       "      <td>23</td>\n",
       "      <td>78.5</td>\n",
       "      <td>103.1</td>\n",
       "      <td>21.5</td>\n",
       "      <td>54.0</td>\n",
       "      <td>56.12</td>\n",
       "      <td>3.6</td>\n",
       "      <td>10.2</td>\n",
       "      <td>7.8</td>\n",
       "      <td>16.1</td>\n",
       "      <td>...</td>\n",
       "      <td>32.7826</td>\n",
       "      <td>2.893610</td>\n",
       "      <td>-1.019000</td>\n",
       "      <td>1.0435</td>\n",
       "      <td>2.8696</td>\n",
       "      <td>3.9130</td>\n",
       "      <td>1.1739</td>\n",
       "      <td>0.8261</td>\n",
       "      <td>0.0870</td>\n",
       "      <td>14.3043</td>\n",
       "    </tr>\n",
       "    <tr>\n",
       "      <th>...</th>\n",
       "      <td>...</td>\n",
       "      <td>...</td>\n",
       "      <td>...</td>\n",
       "      <td>...</td>\n",
       "      <td>...</td>\n",
       "      <td>...</td>\n",
       "      <td>...</td>\n",
       "      <td>...</td>\n",
       "      <td>...</td>\n",
       "      <td>...</td>\n",
       "      <td>...</td>\n",
       "      <td>...</td>\n",
       "      <td>...</td>\n",
       "      <td>...</td>\n",
       "      <td>...</td>\n",
       "      <td>...</td>\n",
       "      <td>...</td>\n",
       "      <td>...</td>\n",
       "      <td>...</td>\n",
       "      <td>...</td>\n",
       "      <td>...</td>\n",
       "    </tr>\n",
       "    <tr>\n",
       "      <th>4965</th>\n",
       "      <td>2</td>\n",
       "      <td>0.3</td>\n",
       "      <td>60.5</td>\n",
       "      <td>19.3</td>\n",
       "      <td>0.0</td>\n",
       "      <td>0.00</td>\n",
       "      <td>0.0</td>\n",
       "      <td>0.0</td>\n",
       "      <td>51.1</td>\n",
       "      <td>0.0</td>\n",
       "      <td>...</td>\n",
       "      <td>1.5000</td>\n",
       "      <td>2.143290</td>\n",
       "      <td>16.018200</td>\n",
       "      <td>0.0000</td>\n",
       "      <td>0.0000</td>\n",
       "      <td>0.0000</td>\n",
       "      <td>0.5000</td>\n",
       "      <td>0.5000</td>\n",
       "      <td>0.0000</td>\n",
       "      <td>0.0000</td>\n",
       "    </tr>\n",
       "    <tr>\n",
       "      <th>4966</th>\n",
       "      <td>4</td>\n",
       "      <td>1.3</td>\n",
       "      <td>28.3</td>\n",
       "      <td>7.1</td>\n",
       "      <td>0.0</td>\n",
       "      <td>0.00</td>\n",
       "      <td>7.0</td>\n",
       "      <td>0.0</td>\n",
       "      <td>0.0</td>\n",
       "      <td>50.3</td>\n",
       "      <td>...</td>\n",
       "      <td>3.7500</td>\n",
       "      <td>-7.242230</td>\n",
       "      <td>-4.993820</td>\n",
       "      <td>0.2500</td>\n",
       "      <td>0.0000</td>\n",
       "      <td>0.2500</td>\n",
       "      <td>0.0000</td>\n",
       "      <td>0.0000</td>\n",
       "      <td>0.0000</td>\n",
       "      <td>0.0000</td>\n",
       "    </tr>\n",
       "    <tr>\n",
       "      <th>4967</th>\n",
       "      <td>1</td>\n",
       "      <td>0.1</td>\n",
       "      <td>0.0</td>\n",
       "      <td>0.0</td>\n",
       "      <td>0.0</td>\n",
       "      <td>0.00</td>\n",
       "      <td>0.0</td>\n",
       "      <td>0.0</td>\n",
       "      <td>0.0</td>\n",
       "      <td>0.0</td>\n",
       "      <td>...</td>\n",
       "      <td>1.0000</td>\n",
       "      <td>-3.524820</td>\n",
       "      <td>-1.126810</td>\n",
       "      <td>0.0000</td>\n",
       "      <td>0.0000</td>\n",
       "      <td>0.0000</td>\n",
       "      <td>0.0000</td>\n",
       "      <td>0.0000</td>\n",
       "      <td>0.0000</td>\n",
       "      <td>0.0000</td>\n",
       "    </tr>\n",
       "    <tr>\n",
       "      <th>4968</th>\n",
       "      <td>1</td>\n",
       "      <td>0.1</td>\n",
       "      <td>0.0</td>\n",
       "      <td>0.0</td>\n",
       "      <td>0.0</td>\n",
       "      <td>0.00</td>\n",
       "      <td>0.0</td>\n",
       "      <td>0.0</td>\n",
       "      <td>0.0</td>\n",
       "      <td>0.0</td>\n",
       "      <td>...</td>\n",
       "      <td>1.0000</td>\n",
       "      <td>-1.876040</td>\n",
       "      <td>-2.380750</td>\n",
       "      <td>0.0000</td>\n",
       "      <td>0.0000</td>\n",
       "      <td>0.0000</td>\n",
       "      <td>0.0000</td>\n",
       "      <td>0.0000</td>\n",
       "      <td>0.0000</td>\n",
       "      <td>0.0000</td>\n",
       "    </tr>\n",
       "    <tr>\n",
       "      <th>4969</th>\n",
       "      <td>4</td>\n",
       "      <td>1.0</td>\n",
       "      <td>89.6</td>\n",
       "      <td>28.8</td>\n",
       "      <td>25.0</td>\n",
       "      <td>25.00</td>\n",
       "      <td>10.3</td>\n",
       "      <td>0.0</td>\n",
       "      <td>48.0</td>\n",
       "      <td>0.0</td>\n",
       "      <td>...</td>\n",
       "      <td>2.7500</td>\n",
       "      <td>9.220840</td>\n",
       "      <td>-3.329310</td>\n",
       "      <td>0.2500</td>\n",
       "      <td>0.0000</td>\n",
       "      <td>0.2500</td>\n",
       "      <td>0.7500</td>\n",
       "      <td>0.0000</td>\n",
       "      <td>0.0000</td>\n",
       "      <td>0.7500</td>\n",
       "    </tr>\n",
       "  </tbody>\n",
       "</table>\n",
       "<p>4970 rows × 50 columns</p>\n",
       "</div>"
      ],
      "text/plain": [
       "      GP  Min_per   Ortg   usg   eFG  TS_per  ORB_per  DRB_per  AST_per   \n",
       "0      2      3.0  115.1   4.7  50.0   50.00      0.0      4.6      0.0  \\\n",
       "1     11     17.6   61.1  18.6  34.7   35.18      2.5     15.7      8.1   \n",
       "2      9     28.6   91.9  23.8  54.1   52.49      6.4     22.5     10.0   \n",
       "3      7      1.3  111.0  10.4  83.3   83.33      0.0     13.4      0.0   \n",
       "4     23     78.5  103.1  21.5  54.0   56.12      3.6     10.2      7.8   \n",
       "...   ..      ...    ...   ...   ...     ...      ...      ...      ...   \n",
       "4965   2      0.3   60.5  19.3   0.0    0.00      0.0      0.0     51.1   \n",
       "4966   4      1.3   28.3   7.1   0.0    0.00      7.0      0.0      0.0   \n",
       "4967   1      0.1    0.0   0.0   0.0    0.00      0.0      0.0      0.0   \n",
       "4968   1      0.1    0.0   0.0   0.0    0.00      0.0      0.0      0.0   \n",
       "4969   4      1.0   89.6  28.8  25.0   25.00     10.3      0.0     48.0   \n",
       "\n",
       "      TO_per  ...       mp     ogbpm      dgbpm    oreb    dreb    treb   \n",
       "0        0.0  ...  10.0000 -2.467740  -2.275660  0.0000  0.3333  0.3333  \\\n",
       "1       30.4  ...  11.5455 -7.494720  -4.412530  0.2727  1.4545  1.7273   \n",
       "2       21.9  ...  23.3333 -2.924950   1.717890  1.3333  4.4444  5.7778   \n",
       "3       33.6  ...   2.2857 -0.767911   0.962469  0.0000  0.2857  0.2857   \n",
       "4       16.1  ...  32.7826  2.893610  -1.019000  1.0435  2.8696  3.9130   \n",
       "...      ...  ...      ...       ...        ...     ...     ...     ...   \n",
       "4965     0.0  ...   1.5000  2.143290  16.018200  0.0000  0.0000  0.0000   \n",
       "4966    50.3  ...   3.7500 -7.242230  -4.993820  0.2500  0.0000  0.2500   \n",
       "4967     0.0  ...   1.0000 -3.524820  -1.126810  0.0000  0.0000  0.0000   \n",
       "4968     0.0  ...   1.0000 -1.876040  -2.380750  0.0000  0.0000  0.0000   \n",
       "4969     0.0  ...   2.7500  9.220840  -3.329310  0.2500  0.0000  0.2500   \n",
       "\n",
       "         ast     stl     blk      pts  \n",
       "0     0.0000  0.0000  0.0000   1.0000  \n",
       "1     0.4545  0.1818  0.0000   2.3636  \n",
       "2     1.0000  0.6667  1.8889   8.8889  \n",
       "3     0.0000  0.0000  0.0000   0.7143  \n",
       "4     1.1739  0.8261  0.0870  14.3043  \n",
       "...      ...     ...     ...      ...  \n",
       "4965  0.5000  0.5000  0.0000   0.0000  \n",
       "4966  0.0000  0.0000  0.0000   0.0000  \n",
       "4967  0.0000  0.0000  0.0000   0.0000  \n",
       "4968  0.0000  0.0000  0.0000   0.0000  \n",
       "4969  0.7500  0.0000  0.0000   0.7500  \n",
       "\n",
       "[4970 rows x 50 columns]"
      ]
     },
     "execution_count": 246,
     "metadata": {},
     "output_type": "execute_result"
    }
   ],
   "source": [
    "test_droplist =['team','conf', 'stl_per','yr','ht','num', 'porpag','adjoe', 'year','type','adrtg','dporpag', 'player_id']\n",
    "cleaned_test_df = cleaned_test_df.drop(columns=test_droplist)\n",
    "cleaned_test_df"
   ]
  },
  {
   "cell_type": "code",
   "execution_count": 247,
   "metadata": {},
   "outputs": [
    {
     "name": "stdout",
     "output_type": "stream",
     "text": [
      "<class 'pandas.core.frame.DataFrame'>\n",
      "RangeIndex: 56091 entries, 0 to 56090\n",
      "Data columns (total 51 columns):\n",
      " #   Column               Non-Null Count  Dtype  \n",
      "---  ------               --------------  -----  \n",
      " 0   GP                   56091 non-null  int64  \n",
      " 1   Min_per              56091 non-null  float64\n",
      " 2   Ortg                 56091 non-null  float64\n",
      " 3   usg                  56091 non-null  float64\n",
      " 4   eFG                  56091 non-null  float64\n",
      " 5   TS_per               56091 non-null  float64\n",
      " 6   ORB_per              56091 non-null  float64\n",
      " 7   DRB_per              56091 non-null  float64\n",
      " 8   AST_per              56091 non-null  float64\n",
      " 9   TO_per               56091 non-null  float64\n",
      " 10  FTM                  56091 non-null  int64  \n",
      " 11  FTA                  56091 non-null  int64  \n",
      " 12  FT_per               56091 non-null  float64\n",
      " 13  twoPM                56091 non-null  int64  \n",
      " 14  twoPA                56091 non-null  int64  \n",
      " 15  twoP_per             56091 non-null  float64\n",
      " 16  TPM                  56091 non-null  int64  \n",
      " 17  TPA                  56091 non-null  int64  \n",
      " 18  TP_per               56091 non-null  float64\n",
      " 19  blk_per              56091 non-null  float64\n",
      " 20  ftr                  56091 non-null  float64\n",
      " 21  pfr                  56091 non-null  float64\n",
      " 22  Rec_Rank             17036 non-null  float64\n",
      " 23  ast_tov              51901 non-null  float64\n",
      " 24  rimmade              50010 non-null  float64\n",
      " 25  rimmade_rimmiss      50010 non-null  float64\n",
      " 26  midmade              50010 non-null  float64\n",
      " 27  midmade_midmiss      50010 non-null  float64\n",
      " 28  rim_ratio            46627 non-null  float64\n",
      " 29  mid_ratio            46403 non-null  float64\n",
      " 30  dunksmade            50010 non-null  float64\n",
      " 31  dunksmiss_dunksmade  50010 non-null  float64\n",
      " 32  dunks_ratio          25298 non-null  float64\n",
      " 33  pick                 1386 non-null   float64\n",
      " 34  drtg                 56047 non-null  float64\n",
      " 35  stops                56047 non-null  float64\n",
      " 36  bpm                  56047 non-null  float64\n",
      " 37  obpm                 56047 non-null  float64\n",
      " 38  dbpm                 56047 non-null  float64\n",
      " 39  gbpm                 56047 non-null  float64\n",
      " 40  mp                   56053 non-null  float64\n",
      " 41  ogbpm                56047 non-null  float64\n",
      " 42  dgbpm                56047 non-null  float64\n",
      " 43  oreb                 56053 non-null  float64\n",
      " 44  dreb                 56053 non-null  float64\n",
      " 45  treb                 56053 non-null  float64\n",
      " 46  ast                  56053 non-null  float64\n",
      " 47  stl                  56053 non-null  float64\n",
      " 48  blk                  56053 non-null  float64\n",
      " 49  pts                  56053 non-null  float64\n",
      " 50  drafted              56091 non-null  float64\n",
      "dtypes: float64(44), int64(7)\n",
      "memory usage: 21.8 MB\n"
     ]
    }
   ],
   "source": [
    "cleaned_train_df.info()"
   ]
  },
  {
   "cell_type": "code",
   "execution_count": 248,
   "metadata": {},
   "outputs": [
    {
     "data": {
      "text/plain": [
       "GP                         0\n",
       "Min_per                    0\n",
       "Ortg                       0\n",
       "usg                        0\n",
       "eFG                        0\n",
       "TS_per                     0\n",
       "ORB_per                    0\n",
       "DRB_per                    0\n",
       "AST_per                    0\n",
       "TO_per                     0\n",
       "FTM                        0\n",
       "FTA                        0\n",
       "FT_per                     0\n",
       "twoPM                      0\n",
       "twoPA                      0\n",
       "twoP_per                   0\n",
       "TPM                        0\n",
       "TPA                        0\n",
       "TP_per                     0\n",
       "blk_per                    0\n",
       "ftr                        0\n",
       "pfr                        0\n",
       "Rec_Rank               39055\n",
       "ast_tov                 4190\n",
       "rimmade                 6081\n",
       "rimmade_rimmiss         6081\n",
       "midmade                 6081\n",
       "midmade_midmiss         6081\n",
       "rim_ratio               9464\n",
       "mid_ratio               9688\n",
       "dunksmade               6081\n",
       "dunksmiss_dunksmade     6081\n",
       "dunks_ratio            30793\n",
       "pick                   54705\n",
       "drtg                      44\n",
       "stops                     44\n",
       "bpm                       44\n",
       "obpm                      44\n",
       "dbpm                      44\n",
       "gbpm                      44\n",
       "mp                        38\n",
       "ogbpm                     44\n",
       "dgbpm                     44\n",
       "oreb                      38\n",
       "dreb                      38\n",
       "treb                      38\n",
       "ast                       38\n",
       "stl                       38\n",
       "blk                       38\n",
       "pts                       38\n",
       "drafted                    0\n",
       "dtype: int64"
      ]
     },
     "execution_count": 248,
     "metadata": {},
     "output_type": "execute_result"
    }
   ],
   "source": [
    "cleaned_train_df.isna().sum()"
   ]
  },
  {
   "cell_type": "code",
   "execution_count": 249,
   "metadata": {},
   "outputs": [
    {
     "data": {
      "text/plain": [
       "185037"
      ]
     },
     "execution_count": 249,
     "metadata": {},
     "output_type": "execute_result"
    }
   ],
   "source": [
    "cleaned_train_df.isna().sum().sum()"
   ]
  },
  {
   "cell_type": "markdown",
   "metadata": {},
   "source": [
    "1. Custom Function"
   ]
  },
  {
   "cell_type": "markdown",
   "metadata": {},
   "source": [
    "### [2.2]  Replace null values in columns with their mean using custom function  "
   ]
  },
  {
   "cell_type": "code",
   "execution_count": 250,
   "metadata": {},
   "outputs": [
    {
     "name": "stdout",
     "output_type": "stream",
     "text": [
      "<class 'pandas.core.frame.DataFrame'>\n",
      "RangeIndex: 56091 entries, 0 to 56090\n",
      "Data columns (total 51 columns):\n",
      " #   Column               Non-Null Count  Dtype  \n",
      "---  ------               --------------  -----  \n",
      " 0   GP                   56091 non-null  int64  \n",
      " 1   Min_per              56091 non-null  float64\n",
      " 2   Ortg                 56091 non-null  float64\n",
      " 3   usg                  56091 non-null  float64\n",
      " 4   eFG                  56091 non-null  float64\n",
      " 5   TS_per               56091 non-null  float64\n",
      " 6   ORB_per              56091 non-null  float64\n",
      " 7   DRB_per              56091 non-null  float64\n",
      " 8   AST_per              56091 non-null  float64\n",
      " 9   TO_per               56091 non-null  float64\n",
      " 10  FTM                  56091 non-null  int64  \n",
      " 11  FTA                  56091 non-null  int64  \n",
      " 12  FT_per               56091 non-null  float64\n",
      " 13  twoPM                56091 non-null  int64  \n",
      " 14  twoPA                56091 non-null  int64  \n",
      " 15  twoP_per             56091 non-null  float64\n",
      " 16  TPM                  56091 non-null  int64  \n",
      " 17  TPA                  56091 non-null  int64  \n",
      " 18  TP_per               56091 non-null  float64\n",
      " 19  blk_per              56091 non-null  float64\n",
      " 20  ftr                  56091 non-null  float64\n",
      " 21  pfr                  56091 non-null  float64\n",
      " 22  Rec_Rank             17036 non-null  float64\n",
      " 23  ast_tov              51901 non-null  float64\n",
      " 24  rimmade              50010 non-null  float64\n",
      " 25  rimmade_rimmiss      50010 non-null  float64\n",
      " 26  midmade              50010 non-null  float64\n",
      " 27  midmade_midmiss      50010 non-null  float64\n",
      " 28  rim_ratio            46627 non-null  float64\n",
      " 29  mid_ratio            46403 non-null  float64\n",
      " 30  dunksmade            50010 non-null  float64\n",
      " 31  dunksmiss_dunksmade  50010 non-null  float64\n",
      " 32  dunks_ratio          25298 non-null  float64\n",
      " 33  pick                 1386 non-null   float64\n",
      " 34  drtg                 56047 non-null  float64\n",
      " 35  stops                56047 non-null  float64\n",
      " 36  bpm                  56047 non-null  float64\n",
      " 37  obpm                 56047 non-null  float64\n",
      " 38  dbpm                 56047 non-null  float64\n",
      " 39  gbpm                 56047 non-null  float64\n",
      " 40  mp                   56053 non-null  float64\n",
      " 41  ogbpm                56047 non-null  float64\n",
      " 42  dgbpm                56047 non-null  float64\n",
      " 43  oreb                 56053 non-null  float64\n",
      " 44  dreb                 56053 non-null  float64\n",
      " 45  treb                 56053 non-null  float64\n",
      " 46  ast                  56053 non-null  float64\n",
      " 47  stl                  56053 non-null  float64\n",
      " 48  blk                  56053 non-null  float64\n",
      " 49  pts                  56053 non-null  float64\n",
      " 50  drafted              56091 non-null  float64\n",
      "dtypes: float64(44), int64(7)\n",
      "memory usage: 21.8 MB\n"
     ]
    }
   ],
   "source": [
    "cleaned_train_df.info()"
   ]
  },
  {
   "cell_type": "code",
   "execution_count": 251,
   "metadata": {},
   "outputs": [],
   "source": [
    "from uts_mahe_binaryclassifier_24610507.data.sets import median_null"
   ]
  },
  {
   "cell_type": "code",
   "execution_count": 252,
   "metadata": {},
   "outputs": [],
   "source": [
    "cleaned_train_df=median_null(cleaned_train_df,'Rec_Rank')\n",
    "cleaned_train_df=median_null(cleaned_train_df,'ast_tov')\n",
    "cleaned_train_df=median_null(cleaned_train_df,'rimmade')\n",
    "cleaned_train_df=median_null(cleaned_train_df,'rimmade_rimmiss')\n",
    "cleaned_train_df=median_null(cleaned_train_df,'midmade_midmiss')"
   ]
  },
  {
   "cell_type": "code",
   "execution_count": 253,
   "metadata": {},
   "outputs": [
    {
     "name": "stdout",
     "output_type": "stream",
     "text": [
      "<class 'pandas.core.series.Series'>\n",
      "RangeIndex: 56091 entries, 0 to 56090\n",
      "Series name: drafted\n",
      "Non-Null Count  Dtype  \n",
      "--------------  -----  \n",
      "56091 non-null  float64\n",
      "dtypes: float64(1)\n",
      "memory usage: 438.3 KB\n"
     ]
    }
   ],
   "source": [
    "cleaned_train_df.drafted.info()"
   ]
  },
  {
   "cell_type": "code",
   "execution_count": 254,
   "metadata": {},
   "outputs": [
    {
     "name": "stdout",
     "output_type": "stream",
     "text": [
      "<class 'pandas.core.frame.DataFrame'>\n",
      "RangeIndex: 56091 entries, 0 to 56090\n",
      "Data columns (total 51 columns):\n",
      " #   Column               Non-Null Count  Dtype  \n",
      "---  ------               --------------  -----  \n",
      " 0   GP                   56091 non-null  int64  \n",
      " 1   Min_per              56091 non-null  float64\n",
      " 2   Ortg                 56091 non-null  float64\n",
      " 3   usg                  56091 non-null  float64\n",
      " 4   eFG                  56091 non-null  float64\n",
      " 5   TS_per               56091 non-null  float64\n",
      " 6   ORB_per              56091 non-null  float64\n",
      " 7   DRB_per              56091 non-null  float64\n",
      " 8   AST_per              56091 non-null  float64\n",
      " 9   TO_per               56091 non-null  float64\n",
      " 10  FTM                  56091 non-null  int64  \n",
      " 11  FTA                  56091 non-null  int64  \n",
      " 12  FT_per               56091 non-null  float64\n",
      " 13  twoPM                56091 non-null  int64  \n",
      " 14  twoPA                56091 non-null  int64  \n",
      " 15  twoP_per             56091 non-null  float64\n",
      " 16  TPM                  56091 non-null  int64  \n",
      " 17  TPA                  56091 non-null  int64  \n",
      " 18  TP_per               56091 non-null  float64\n",
      " 19  blk_per              56091 non-null  float64\n",
      " 20  ftr                  56091 non-null  float64\n",
      " 21  pfr                  56091 non-null  float64\n",
      " 22  Rec_Rank             56091 non-null  float64\n",
      " 23  ast_tov              56091 non-null  float64\n",
      " 24  rimmade              56091 non-null  float64\n",
      " 25  rimmade_rimmiss      56091 non-null  float64\n",
      " 26  midmade              50010 non-null  float64\n",
      " 27  midmade_midmiss      56091 non-null  float64\n",
      " 28  rim_ratio            46627 non-null  float64\n",
      " 29  mid_ratio            46403 non-null  float64\n",
      " 30  dunksmade            50010 non-null  float64\n",
      " 31  dunksmiss_dunksmade  50010 non-null  float64\n",
      " 32  dunks_ratio          25298 non-null  float64\n",
      " 33  pick                 1386 non-null   float64\n",
      " 34  drtg                 56047 non-null  float64\n",
      " 35  stops                56047 non-null  float64\n",
      " 36  bpm                  56047 non-null  float64\n",
      " 37  obpm                 56047 non-null  float64\n",
      " 38  dbpm                 56047 non-null  float64\n",
      " 39  gbpm                 56047 non-null  float64\n",
      " 40  mp                   56053 non-null  float64\n",
      " 41  ogbpm                56047 non-null  float64\n",
      " 42  dgbpm                56047 non-null  float64\n",
      " 43  oreb                 56053 non-null  float64\n",
      " 44  dreb                 56053 non-null  float64\n",
      " 45  treb                 56053 non-null  float64\n",
      " 46  ast                  56053 non-null  float64\n",
      " 47  stl                  56053 non-null  float64\n",
      " 48  blk                  56053 non-null  float64\n",
      " 49  pts                  56053 non-null  float64\n",
      " 50  drafted              56091 non-null  float64\n",
      "dtypes: float64(44), int64(7)\n",
      "memory usage: 21.8 MB\n"
     ]
    }
   ],
   "source": [
    "cleaned_train_df.info()"
   ]
  },
  {
   "cell_type": "code",
   "execution_count": 255,
   "metadata": {},
   "outputs": [
    {
     "data": {
      "text/plain": [
       "123549"
      ]
     },
     "execution_count": 255,
     "metadata": {},
     "output_type": "execute_result"
    }
   ],
   "source": [
    "cleaned_train_df.isna().sum().sum()"
   ]
  },
  {
   "cell_type": "markdown",
   "metadata": {},
   "source": [
    "### Replacing nan values with mean value of respective column"
   ]
  },
  {
   "cell_type": "code",
   "execution_count": 256,
   "metadata": {},
   "outputs": [],
   "source": [
    "from uts_mahe_binaryclassifier_24610507.data.sets import mean_null"
   ]
  },
  {
   "cell_type": "code",
   "execution_count": 257,
   "metadata": {},
   "outputs": [],
   "source": [
    "cleaned_train_df=mean_null(cleaned_train_df,'mid_ratio')\n",
    "cleaned_train_df=mean_null(cleaned_train_df,'rim_ratio')\n",
    "cleaned_train_df=mean_null(cleaned_train_df,'dunksmade')\n",
    "cleaned_train_df=mean_null(cleaned_train_df,'dunksmiss_dunksmade')\n",
    "cleaned_train_df=mean_null(cleaned_train_df,'dunks_ratio')\n",
    "cleaned_train_df=mean_null(cleaned_train_df,'pick')   \n",
    "cleaned_train_df=mean_null(cleaned_train_df,'midmade')"
   ]
  },
  {
   "cell_type": "code",
   "execution_count": 258,
   "metadata": {},
   "outputs": [
    {
     "data": {
      "text/plain": [
       "656"
      ]
     },
     "execution_count": 258,
     "metadata": {},
     "output_type": "execute_result"
    }
   ],
   "source": [
    "cleaned_train_df.isna().sum().sum()"
   ]
  },
  {
   "cell_type": "markdown",
   "metadata": {},
   "source": [
    "### Replacing the below columns nan values with median_null and mean_nul custom function with its respective columns from Testing dataframe values"
   ]
  },
  {
   "cell_type": "code",
   "execution_count": 259,
   "metadata": {},
   "outputs": [],
   "source": [
    "cleaned_test_df=median_null(cleaned_test_df,'Rec_Rank')\n",
    "cleaned_test_df=median_null(cleaned_test_df,'ast_tov')\n",
    "cleaned_test_df=median_null(cleaned_test_df,'rimmade')\n",
    "cleaned_test_df=median_null(cleaned_test_df,'rimmade_rimmiss')\n",
    "cleaned_test_df=median_null(cleaned_test_df,'midmade_midmiss')\n",
    "cleaned_test_df=mean_null(cleaned_test_df,'mid_ratio')\n",
    "cleaned_test_df=mean_null(cleaned_test_df,'rim_ratio')\n",
    "cleaned_test_df=mean_null(cleaned_test_df,'dunksmade')\n",
    "cleaned_test_df=mean_null(cleaned_test_df,'dunksmiss_dunksmade')\n",
    "cleaned_test_df=mean_null(cleaned_test_df,'dunks_ratio')\n",
    "cleaned_test_df=mean_null(cleaned_test_df,'pick')\n",
    "cleaned_test_df=mean_null(cleaned_test_df,'midmade')"
   ]
  },
  {
   "cell_type": "markdown",
   "metadata": {},
   "source": [
    "### [2.3] Replace na with O in the dataset for remaining columns"
   ]
  },
  {
   "cell_type": "markdown",
   "metadata": {},
   "source": [
    "### Importing \"replace_null_with_Zero\" custom function to fill nan values with 0."
   ]
  },
  {
   "cell_type": "code",
   "execution_count": 260,
   "metadata": {},
   "outputs": [],
   "source": [
    "from uts_mahe_binaryclassifier_24610507.data.sets import replace_null_with_Zero"
   ]
  },
  {
   "cell_type": "code",
   "execution_count": 261,
   "metadata": {},
   "outputs": [],
   "source": [
    "\n",
    "cleaned_train_df=replace_null_with_Zero(cleaned_train_df)\n"
   ]
  },
  {
   "cell_type": "code",
   "execution_count": 262,
   "metadata": {},
   "outputs": [
    {
     "data": {
      "text/plain": [
       "0"
      ]
     },
     "execution_count": 262,
     "metadata": {},
     "output_type": "execute_result"
    }
   ],
   "source": [
    "cleaned_train_df.isna().sum().sum()"
   ]
  },
  {
   "cell_type": "code",
   "execution_count": 263,
   "metadata": {},
   "outputs": [],
   "source": [
    "cleaned_test_df=replace_null_with_Zero(cleaned_test_df)\n"
   ]
  },
  {
   "cell_type": "code",
   "execution_count": 264,
   "metadata": {},
   "outputs": [
    {
     "data": {
      "text/plain": [
       "0"
      ]
     },
     "execution_count": 264,
     "metadata": {},
     "output_type": "execute_result"
    }
   ],
   "source": [
    "cleaned_test_df.isna().sum().sum()"
   ]
  },
  {
   "cell_type": "code",
   "execution_count": 265,
   "metadata": {},
   "outputs": [
    {
     "name": "stdout",
     "output_type": "stream",
     "text": [
      "       GP  Min_per   Ortg   usg    eFG  TS_per  ORB_per  DRB_per  AST_per   \n",
      "0      26     29.5   97.3  16.6   42.5   44.43      1.6      4.6     15.8  \\\n",
      "1      34     60.9  108.3  14.9   52.4   54.48      3.8      6.3     13.6   \n",
      "2      27     72.0   96.2  21.8   45.7   47.98      2.1      8.0     14.7   \n",
      "3      30     44.5   97.7  16.0   53.6   53.69      4.1      9.4     13.7   \n",
      "4      33     56.2   96.5  22.0   52.8   54.31      8.3     18.6      8.2   \n",
      "...    ..      ...    ...   ...    ...     ...      ...      ...      ...   \n",
      "56086   1      0.1    0.0  48.9    0.0    0.00      0.0      0.0      0.0   \n",
      "56087   1      0.2  206.9  35.9  100.0  102.56      0.0      0.0      0.0   \n",
      "56088   1      0.6   48.5  28.9    0.0   52.63      0.0     15.9      0.0   \n",
      "56089   1      0.1  300.0  20.0  150.0  150.00      0.0      0.0      0.0   \n",
      "56090  19     21.9   55.0  16.4   24.5   30.60      0.6      7.2      9.1   \n",
      "\n",
      "       TO_per  ...      ogbpm      dgbpm    oreb    dreb    treb     ast   \n",
      "0        16.3  ...  -2.781990  -1.941150  0.1923  0.6154  0.8077  1.1923  \\\n",
      "1        19.8  ...  -0.052263  -0.247934  0.6765  1.2647  1.9412  1.8235   \n",
      "2        15.9  ...   1.548230  -0.883163  0.6296  2.3333  2.9630  1.9630   \n",
      "3        23.8  ...  -0.342775  -0.393459  0.7000  1.4333  2.1333  1.1000   \n",
      "4        22.7  ...  -1.684860  -0.668318  1.4242  3.3030  4.7273  0.8485   \n",
      "...       ...  ...        ...        ...     ...     ...     ...     ...   \n",
      "56086     0.0  ... -22.468800 -17.439600  0.0000  0.0000  0.0000  0.0000   \n",
      "56087     0.0  ...  35.683300   9.392350  0.0000  0.0000  0.0000  0.0000   \n",
      "56088    52.9  ... -13.372700  -3.240610  0.0000  1.0000  1.0000  0.0000   \n",
      "56089     0.0  ...  94.422600  16.362500  0.0000  0.0000  0.0000  0.0000   \n",
      "56090    26.1  ...  -7.806150  -4.935520  0.0455  0.9091  0.9545  0.5909   \n",
      "\n",
      "          stl     blk      pts  drafted  \n",
      "0      0.3462  0.0385   3.8846      0.0  \n",
      "1      0.4118  0.2353   5.9412      0.0  \n",
      "2      0.4815  0.0000  12.1852      0.0  \n",
      "3      0.5667  0.1333   4.9333      0.0  \n",
      "4      0.4545  0.3333   7.5758      0.0  \n",
      "...       ...     ...      ...      ...  \n",
      "56086  0.0000  0.0000   0.0000      0.0  \n",
      "56087  0.0000  0.0000   4.0000      0.0  \n",
      "56088  0.0000  0.0000   2.0000      0.0  \n",
      "56089  0.0000  0.0000   3.0000      0.0  \n",
      "56090  0.4091  0.0000   2.4091      0.0  \n",
      "\n",
      "[56091 rows x 51 columns]\n"
     ]
    }
   ],
   "source": [
    "print(cleaned_train_df)"
   ]
  },
  {
   "cell_type": "markdown",
   "metadata": {},
   "source": [
    "### [2.3] Remove duplicate rows using function duplicated()"
   ]
  },
  {
   "cell_type": "code",
   "execution_count": 266,
   "metadata": {},
   "outputs": [
    {
     "data": {
      "text/plain": [
       "16"
      ]
     },
     "execution_count": 266,
     "metadata": {},
     "output_type": "execute_result"
    }
   ],
   "source": [
    "cleaned_train_df.duplicated().sum()"
   ]
  },
  {
   "cell_type": "code",
   "execution_count": 267,
   "metadata": {},
   "outputs": [],
   "source": [
    "cleaned_train_df.drop_duplicates(inplace=True)"
   ]
  },
  {
   "cell_type": "code",
   "execution_count": 268,
   "metadata": {},
   "outputs": [],
   "source": [
    "#Unit Test\n",
    "assert cleaned_train_df.duplicated().sum() == 0"
   ]
  },
  {
   "cell_type": "code",
   "execution_count": 269,
   "metadata": {},
   "outputs": [
    {
     "data": {
      "text/plain": [
       "4"
      ]
     },
     "execution_count": 269,
     "metadata": {},
     "output_type": "execute_result"
    }
   ],
   "source": [
    "cleaned_test_df.duplicated().sum()"
   ]
  },
  {
   "cell_type": "code",
   "execution_count": 270,
   "metadata": {},
   "outputs": [],
   "source": [
    "#cleaned_test_df.drop_duplicates(inplace=True)"
   ]
  },
  {
   "cell_type": "code",
   "execution_count": 271,
   "metadata": {},
   "outputs": [],
   "source": [
    "#Unit Test\n",
    "#assert cleaned_test_df.duplicated().sum() == 0"
   ]
  },
  {
   "cell_type": "markdown",
   "metadata": {},
   "source": [
    "## [3] Exploratory Data Analysis"
   ]
  },
  {
   "cell_type": "markdown",
   "metadata": {},
   "source": [
    "#### Visualizing number of games played by players."
   ]
  },
  {
   "cell_type": "code",
   "execution_count": 272,
   "metadata": {},
   "outputs": [
    {
     "data": {
      "image/png": "[encoded data removed]",
      "text/plain": [
       "<Figure size 640x480 with 1 Axes>"
      ]
     },
     "metadata": {},
     "output_type": "display_data"
    }
   ],
   "source": [
    "y=cleaned_train_df['GP']\n",
    "\n",
    "plt.hist(y, bins=30, density=True, alpha=1, color='blue', label='No. of Games Played')\n",
    "\n",
    "plt.xlabel('Games Played')\n",
    "plt.ylabel('Percentage of players played')\n",
    "plt.title('Number of Games Played by the players')\n",
    "plt.legend()\n",
    "plt.grid(True)\n",
    "\n",
    "# Show the plot\n",
    "plt.show()"
   ]
  },
  {
   "cell_type": "markdown",
   "metadata": {},
   "source": [
    "#### Visualizing Distribution of Shorts made at or near the Rim by the players."
   ]
  },
  {
   "cell_type": "code",
   "execution_count": 273,
   "metadata": {},
   "outputs": [
    {
     "data": {
      "image/png": "[encoded data removed]",
      "text/plain": [
       "<Figure size 800x600 with 1 Axes>"
      ]
     },
     "metadata": {},
     "output_type": "display_data"
    }
   ],
   "source": [
    "#Pie chart of job categories\n",
    "job_counts = cleaned_train_df['rimmade'].value_counts()\n",
    "plt.figure(figsize=(8, 6))\n",
    "plt.pie(job_counts.values, labels=job_counts.index, autopct='%1.1f%%')\n",
    "plt.title('Distribution of Shorts made near the Rim')\n",
    "plt.show()\n",
    "\n"
   ]
  },
  {
   "cell_type": "code",
   "execution_count": 274,
   "metadata": {},
   "outputs": [
    {
     "name": "stdout",
     "output_type": "stream",
     "text": [
      "<class 'pandas.core.series.Series'>\n",
      "Index: 56075 entries, 0 to 56090\n",
      "Series name: drafted\n",
      "Non-Null Count  Dtype  \n",
      "--------------  -----  \n",
      "56075 non-null  float64\n",
      "dtypes: float64(1)\n",
      "memory usage: 876.2 KB\n"
     ]
    }
   ],
   "source": [
    "cleaned_train_df.drafted.info()"
   ]
  },
  {
   "cell_type": "markdown",
   "metadata": {},
   "source": [
    "#### Visualizing Player percentage for minutes played"
   ]
  },
  {
   "cell_type": "code",
   "execution_count": 275,
   "metadata": {},
   "outputs": [
    {
     "data": {
      "image/png": "[encoded data removed]",
      "text/plain": [
       "<Figure size 640x480 with 1 Axes>"
      ]
     },
     "metadata": {},
     "output_type": "display_data"
    }
   ],
   "source": [
    "import matplotlib.pyplot as plt\n",
    "import numpy as np\n",
    "\n",
    "# Generate some sample data\n",
    "x = cleaned_train_df['Min_per']\n",
    "#y = cleaned_train_df['drafted']\n",
    "\n",
    "# Sample a subset of 100 values\n",
    "sample_indices = np.random.choice(len(x), 100, replace=False)\n",
    "x_sampled = x[sample_indices]\n",
    "#y_sampled = y[sample_indices]\n",
    "\n",
    "# Create a line plot\n",
    "#plt.bar(x_sampled, y_sampled, label='Sampled Data', color='blue')\n",
    "plt.hist(x_sampled, label='Minutes Played', color='Red')\n",
    "plt.xlabel('Player minutes played')\n",
    "plt.ylabel('Number of players')\n",
    "plt.title('Player percentage for minutes played')\n",
    "plt.legend()\n",
    "plt.grid(True)\n",
    "\n",
    "# Show the plot\n",
    "plt.show()"
   ]
  },
  {
   "cell_type": "markdown",
   "metadata": {},
   "source": [
    "#### Visualizing Recruiting rank i.e. what the player was ranked as a recruit coming out of high school."
   ]
  },
  {
   "cell_type": "code",
   "execution_count": 276,
   "metadata": {},
   "outputs": [
    {
     "data": {
      "image/png": "[encoded data removed]",
      "text/plain": [
       "<Figure size 640x480 with 1 Axes>"
      ]
     },
     "metadata": {},
     "output_type": "display_data"
    }
   ],
   "source": [
    "# Generate some sample data\n",
    "x = cleaned_train_df['Rec_Rank']\n",
    "#y = cleaned_train_df['drafted']\n",
    "\n",
    "# Sample a subset of 100 values\n",
    "sample_indices = np.random.choice(len(x), 100, replace=False)\n",
    "x_sampled = x[sample_indices]\n",
    "#y_sampled = y[sample_indices]\n",
    "\n",
    "# Create a line plot\n",
    "#plt.bar(x_sampled, y_sampled, label='Sampled Data', color='blue')\n",
    "plt.hist(x_sampled, label='Minutes Played', color='lime')\n",
    "plt.xlabel('Player minutes played')\n",
    "plt.ylabel('Number of players')\n",
    "plt.title('Player percentage for minutes played')\n",
    "plt.legend()\n",
    "plt.grid(True)\n",
    "\n",
    "# Show the plot\n",
    "plt.show()"
   ]
  },
  {
   "cell_type": "markdown",
   "metadata": {},
   "source": [
    "#### Visualizing target variable of training dataframe"
   ]
  },
  {
   "cell_type": "code",
   "execution_count": 277,
   "metadata": {},
   "outputs": [
    {
     "data": {
      "image/png": "[encoded data removed]",
      "text/plain": [
       "<Figure size 640x480 with 1 Axes>"
      ]
     },
     "metadata": {},
     "output_type": "display_data"
    }
   ],
   "source": [
    "y=cleaned_train_df['drafted']\n",
    "plt.hist(y, label='Drafted', color='green')\n",
    "plt.xlabel('Drafted')\n",
    "plt.ylabel('Number of players')\n",
    "plt.title('Payer Drafted')\n",
    "plt.legend()\n",
    "plt.grid(True)\n",
    "\n",
    "# Show the plot\n",
    "plt.show()"
   ]
  },
  {
   "cell_type": "markdown",
   "metadata": {},
   "source": [
    "##  [4] Dropping the drafted column from training dataframe and storing it into train_target using custom function \"drop_target\""
   ]
  },
  {
   "cell_type": "code",
   "execution_count": 278,
   "metadata": {},
   "outputs": [],
   "source": [
    "from uts_mahe_binaryclassifier_24610507.data.sets import drop_target"
   ]
  },
  {
   "cell_type": "code",
   "execution_count": 279,
   "metadata": {},
   "outputs": [],
   "source": [
    "x,y=drop_target(cleaned_train_df,'drafted')"
   ]
  },
  {
   "cell_type": "markdown",
   "metadata": {},
   "source": [
    "### [4.1] Importing Standard Scaler from sciketlear for Scaling Data using Standard Scaler."
   ]
  },
  {
   "cell_type": "code",
   "execution_count": 280,
   "metadata": {},
   "outputs": [],
   "source": [
    "from sklearn.preprocessing import StandardScaler"
   ]
  },
  {
   "cell_type": "markdown",
   "metadata": {},
   "source": [
    "### [4.2] Initializing Standard Scalar for train and test dataframes"
   ]
  },
  {
   "cell_type": "code",
   "execution_count": 281,
   "metadata": {},
   "outputs": [],
   "source": [
    "scaler = StandardScaler()"
   ]
  },
  {
   "cell_type": "code",
   "execution_count": 282,
   "metadata": {},
   "outputs": [],
   "source": [
    "cleaned_train_df= scaler.fit_transform(cleaned_train_df)"
   ]
  },
  {
   "cell_type": "code",
   "execution_count": 283,
   "metadata": {},
   "outputs": [
    {
     "name": "stdout",
     "output_type": "stream",
     "text": [
      "Requirement already satisfied: imbalanced-learn in /Users/mahjabeenmohiuddin/.pyenv/versions/3.9.13/lib/python3.9/site-packages (0.11.0)\n",
      "Requirement already satisfied: numpy>=1.17.3 in /Users/mahjabeenmohiuddin/.pyenv/versions/3.9.13/lib/python3.9/site-packages (from imbalanced-learn) (1.25.2)\n",
      "Requirement already satisfied: scipy>=1.5.0 in /Users/mahjabeenmohiuddin/.pyenv/versions/3.9.13/lib/python3.9/site-packages (from imbalanced-learn) (1.11.2)\n",
      "Requirement already satisfied: scikit-learn>=1.0.2 in /Users/mahjabeenmohiuddin/.pyenv/versions/3.9.13/lib/python3.9/site-packages (from imbalanced-learn) (1.2.2)\n",
      "Requirement already satisfied: joblib>=1.1.1 in /Users/mahjabeenmohiuddin/.pyenv/versions/3.9.13/lib/python3.9/site-packages (from imbalanced-learn) (1.3.2)\n",
      "Requirement already satisfied: threadpoolctl>=2.0.0 in /Users/mahjabeenmohiuddin/.pyenv/versions/3.9.13/lib/python3.9/site-packages (from imbalanced-learn) (3.2.0)\n"
     ]
    }
   ],
   "source": [
    "!pip install imbalanced-learn"
   ]
  },
  {
   "cell_type": "markdown",
   "metadata": {},
   "source": [
    "### [4.3]Importing dump from joblib and dunmping the scaled data"
   ]
  },
  {
   "cell_type": "code",
   "execution_count": 284,
   "metadata": {},
   "outputs": [],
   "source": [
    "from joblib import dump"
   ]
  },
  {
   "cell_type": "code",
   "execution_count": 285,
   "metadata": {},
   "outputs": [
    {
     "data": {
      "text/plain": [
       "['../models/scaler.joblib']"
      ]
     },
     "execution_count": 285,
     "metadata": {},
     "output_type": "execute_result"
    }
   ],
   "source": [
    "dump(scaler, '../models/scaler.joblib')"
   ]
  },
  {
   "cell_type": "markdown",
   "metadata": {},
   "source": [
    "## 5. Performing SMOTE Sampling and then splitting the data among train, validation sets"
   ]
  },
  {
   "cell_type": "markdown",
   "metadata": {},
   "source": [
    "# 5. Sampling"
   ]
  },
  {
   "cell_type": "markdown",
   "metadata": {},
   "source": [
    "### Importing Smote Sampler"
   ]
  },
  {
   "cell_type": "code",
   "execution_count": 286,
   "metadata": {},
   "outputs": [
    {
     "name": "stdout",
     "output_type": "stream",
     "text": [
      "Shape of X before SMOTE:(56075, 50)\n",
      "Before Smote count of label '1' : 536\n",
      "Before Smote count of label '0' \n",
      " : 55539\n"
     ]
    },
    {
     "name": "stdout",
     "output_type": "stream",
     "text": [
      "Shape of X before SMOTE:(111078, 50)\n",
      "After Smote count of label '1' : 536\n",
      "After Smote count of label '0' \n",
      " : 55539\n"
     ]
    }
   ],
   "source": [
    "\n",
    "from imblearn.over_sampling import SMOTE\n",
    "print(\"Shape of X before SMOTE:{}\".format(x.shape))\n",
    "print(\"Before Smote count of label '1' : {}\".format((y == 1).sum()))\n",
    "print(\"Before Smote count of label '0' \\n : {}\".format((y==0).sum()))\n",
    "\n",
    "from imblearn.over_sampling import SMOTE\n",
    "\n",
    "smote = SMOTE(sampling_strategy='auto', random_state=42, k_neighbors=5, n_jobs=None)\n",
    "X_smote,y_smote= smote.fit_resample(x,y)\n",
    "\n",
    "print(\"Shape of X before SMOTE:{}\".format(X_smote.shape))\n",
    "print(\"After Smote count of label '1' : {}\".format((y == 1).sum()))\n",
    "print(\"After Smote count of label '0' \\n : {}\".format((y==0).sum()))"
   ]
  },
  {
   "cell_type": "markdown",
   "metadata": {},
   "source": [
    "### [5.1] Calling random_split_sets custom function to split data into train and validation sets"
   ]
  },
  {
   "cell_type": "code",
   "execution_count": 287,
   "metadata": {},
   "outputs": [],
   "source": [
    "from uts_mahe_binaryclassifier_24610507.data.sets import random_split_sets"
   ]
  },
  {
   "cell_type": "code",
   "execution_count": 288,
   "metadata": {},
   "outputs": [],
   "source": [
    "X_train, y_train, X_val, y_val = random_split_sets(X_smote,y_smote ,val_ratio=0.2)"
   ]
  },
  {
   "cell_type": "markdown",
   "metadata": {},
   "source": [
    "### [5.2] Checking Dimensions of train, validation sets features and target."
   ]
  },
  {
   "cell_type": "code",
   "execution_count": 289,
   "metadata": {},
   "outputs": [
    {
     "name": "stdout",
     "output_type": "stream",
     "text": [
      "(88862, 50)\n",
      "(22216, 50)\n"
     ]
    }
   ],
   "source": [
    "print(X_train.shape)\n",
    "print(X_val.shape)"
   ]
  },
  {
   "cell_type": "code",
   "execution_count": 290,
   "metadata": {},
   "outputs": [
    {
     "name": "stdout",
     "output_type": "stream",
     "text": [
      "(88862,)\n",
      "(22216,)\n"
     ]
    }
   ],
   "source": [
    "print(y_train.shape)\n",
    "print(y_val.shape)"
   ]
  },
  {
   "cell_type": "markdown",
   "metadata": {},
   "source": [
    "### [5.3]Import the function `save_sets()` function from my custom package\n",
    "Saving the train, validation sets into the folder `data/processed`"
   ]
  },
  {
   "cell_type": "code",
   "execution_count": 291,
   "metadata": {},
   "outputs": [],
   "source": [
    "from uts_mahe_binaryclassifier_24610507.data.sets import save_train_val_sets"
   ]
  },
  {
   "cell_type": "code",
   "execution_count": 292,
   "metadata": {},
   "outputs": [],
   "source": [
    "save_train_val_sets(X_train, y_train, X_val, y_val, path='../data/processed/') \n"
   ]
  },
  {
   "cell_type": "code",
   "execution_count": 293,
   "metadata": {},
   "outputs": [],
   "source": [
    "save_train_val_sets((X_train).to_csv('../data/processed/X_train.csv', index=False))\n",
    "save_train_val_sets((X_val).to_csv('../data/processed/X_val.csv', index=False))\n",
    "save_train_val_sets((y_train).to_csv('../data/processed/y_train.csv', index=False))\n",
    "save_train_val_sets((y_val).to_csv('../data/processed/y_val.csv', index=False))"
   ]
  },
  {
   "cell_type": "code",
   "execution_count": 294,
   "metadata": {},
   "outputs": [],
   "source": [
    "#from uts_mahe_binaryclassifier_24610507.data.sets import load_train_val_sets"
   ]
  },
  {
   "cell_type": "code",
   "execution_count": 295,
   "metadata": {},
   "outputs": [],
   "source": [
    "#X_train, y_train, X_val, y_val = load_train_val_sets(path='../data/processed/')"
   ]
  },
  {
   "cell_type": "markdown",
   "metadata": {},
   "source": [
    "## 6. Baseline Model"
   ]
  },
  {
   "cell_type": "markdown",
   "metadata": {},
   "source": [
    "### [6.1] Importing custom class \"NullBinaryClassifier\""
   ]
  },
  {
   "cell_type": "code",
   "execution_count": 296,
   "metadata": {},
   "outputs": [],
   "source": [
    "from uts_mahe_binaryclassifier_24610507.models.null import  NullBinaryClassifier"
   ]
  },
  {
   "cell_type": "code",
   "execution_count": 297,
   "metadata": {},
   "outputs": [],
   "source": [
    "baseline_model =NullBinaryClassifier()"
   ]
  },
  {
   "cell_type": "markdown",
   "metadata": {},
   "source": [
    "### [6.2] Make a prediction using `fit_predict()` and save the results in a variable called `y_base`"
   ]
  },
  {
   "cell_type": "code",
   "execution_count": 298,
   "metadata": {},
   "outputs": [],
   "source": [
    "y_base = baseline_model.fit_predict(y_train)"
   ]
  },
  {
   "cell_type": "code",
   "execution_count": 299,
   "metadata": {},
   "outputs": [],
   "source": [
    "y_base = baseline_model.fit_predict(y_train)"
   ]
  },
  {
   "cell_type": "markdown",
   "metadata": {},
   "source": [
    "### [6.3] Import the `print_classifier_scores()` function from custom package"
   ]
  },
  {
   "cell_type": "code",
   "execution_count": 300,
   "metadata": {},
   "outputs": [],
   "source": [
    "from uts_mahe_binaryclassifier_24610507.models.performance import  print_classifier_scores"
   ]
  },
  {
   "cell_type": "markdown",
   "metadata": {},
   "source": [
    "### [6.4] Displaying the Accuracy scores and f1 score  of baseline model on the training set using custom function"
   ]
  },
  {
   "cell_type": "code",
   "execution_count": 301,
   "metadata": {},
   "outputs": [
    {
     "name": "stdout",
     "output_type": "stream",
     "text": [
      "accuracy_score Baseline_Model: 0.500832751907452\n",
      "f1_score Baseline_Model: 0.0\n"
     ]
    }
   ],
   "source": [
    "print_classifier_scores(y_preds=y_base, y_actuals=y_train, set_name='Baseline_Model')"
   ]
  },
  {
   "cell_type": "markdown",
   "metadata": {},
   "source": [
    "# 7. Models:"
   ]
  },
  {
   "cell_type": "markdown",
   "metadata": {},
   "source": [
    "### [7.1] Improting MLPClassifier from scikit-learn"
   ]
  },
  {
   "cell_type": "code",
   "execution_count": 302,
   "metadata": {},
   "outputs": [],
   "source": [
    "from sklearn.neural_network import MLPClassifier"
   ]
  },
  {
   "cell_type": "code",
   "execution_count": 303,
   "metadata": {},
   "outputs": [],
   "source": [
    "from uts_mahe_binaryclassifier_24610507.models.performance import fit_assess_classifier"
   ]
  },
  {
   "cell_type": "markdown",
   "metadata": {},
   "source": [
    "### [7.2] Initiating MLPClassifier class and fitting the data into model using custom function"
   ]
  },
  {
   "cell_type": "code",
   "execution_count": 304,
   "metadata": {},
   "outputs": [
    {
     "name": "stdout",
     "output_type": "stream",
     "text": [
      "accuracy_score Training: 0.891764758839549\n",
      "f1_score Training: 0.895018337408313\n",
      "accuracy_score Validation: 0.8904393230104429\n",
      "f1_score Validation: 0.8946502770083102\n"
     ]
    }
   ],
   "source": [
    "custom_MLPClassifier=fit_assess_classifier(MLPClassifier(max_iter= 300, solver='lbfgs', alpha=1e-5,hidden_layer_sizes=(5, 2), random_state=1), X_train, y_train, X_val, y_val)"
   ]
  },
  {
   "cell_type": "markdown",
   "metadata": {},
   "source": [
    "### [7.6] Importng `dump` from `joblib` and saving the fitted model into the folder `models` as a file called `Log_reg`"
   ]
  },
  {
   "cell_type": "code",
   "execution_count": 305,
   "metadata": {},
   "outputs": [
    {
     "data": {
      "text/plain": [
       "['../models/model_1_MLPClassifier_week4_reg_au_roc_score.joblib']"
      ]
     },
     "execution_count": 305,
     "metadata": {},
     "output_type": "execute_result"
    }
   ],
   "source": [
    "\n",
    "dump(custom_MLPClassifier,  '../models/model_1_MLPClassifier_week4_reg_au_roc_score.joblib')"
   ]
  },
  {
   "cell_type": "markdown",
   "metadata": {},
   "source": [
    "### [7.5] Calculating the probability, Au-Roc Score  of player being selected for NBA basketball draf."
   ]
  },
  {
   "cell_type": "code",
   "execution_count": 306,
   "metadata": {},
   "outputs": [],
   "source": [
    "test_df_ =cleaned_test_df[X_train.columns]\n",
    "\n"
   ]
  },
  {
   "cell_type": "code",
   "execution_count": 307,
   "metadata": {},
   "outputs": [
    {
     "name": "stdout",
     "output_type": "stream",
     "text": [
      "The probability of a player is: [1.04396457e-097 5.25113424e-153 4.95759540e-023 ... 4.89330781e-172\n",
      " 7.73466945e-162 2.99804606e-095]\n"
     ]
    }
   ],
   "source": [
    "y_pred_proba = custom_MLPClassifier.predict_proba(test_df_)[::,1]\n",
    "\n",
    "print(\"The probability of a player is:\",y_pred_proba)"
   ]
  },
  {
   "cell_type": "code",
   "execution_count": 308,
   "metadata": {},
   "outputs": [
    {
     "data": {
      "text/html": [
       "<div>\n",
       "<style scoped>\n",
       "    .dataframe tbody tr th:only-of-type {\n",
       "        vertical-align: middle;\n",
       "    }\n",
       "\n",
       "    .dataframe tbody tr th {\n",
       "        vertical-align: top;\n",
       "    }\n",
       "\n",
       "    .dataframe thead th {\n",
       "        text-align: right;\n",
       "    }\n",
       "</style>\n",
       "<table border=\"1\" class=\"dataframe\">\n",
       "  <thead>\n",
       "    <tr style=\"text-align: right;\">\n",
       "      <th></th>\n",
       "      <th>player_id</th>\n",
       "    </tr>\n",
       "  </thead>\n",
       "  <tbody>\n",
       "    <tr>\n",
       "      <th>0</th>\n",
       "      <td>cf302b4d-84f7-4124-a25d-a75eed31978b</td>\n",
       "    </tr>\n",
       "    <tr>\n",
       "      <th>1</th>\n",
       "      <td>f91837cd-4f49-4b70-963d-aeb82c6ce3da</td>\n",
       "    </tr>\n",
       "    <tr>\n",
       "      <th>2</th>\n",
       "      <td>53ec2a29-1e7d-4c6d-86d7-d60d02af8916</td>\n",
       "    </tr>\n",
       "    <tr>\n",
       "      <th>3</th>\n",
       "      <td>32402798-471c-4a54-8cb4-29cd95199014</td>\n",
       "    </tr>\n",
       "    <tr>\n",
       "      <th>4</th>\n",
       "      <td>73b960f9-27b8-4431-9d23-a760e9bbc360</td>\n",
       "    </tr>\n",
       "    <tr>\n",
       "      <th>...</th>\n",
       "      <td>...</td>\n",
       "    </tr>\n",
       "    <tr>\n",
       "      <th>4965</th>\n",
       "      <td>a25ee55f-02a3-4f8e-8194-a5f427e14e7c</td>\n",
       "    </tr>\n",
       "    <tr>\n",
       "      <th>4966</th>\n",
       "      <td>d0d9f45e-7b01-44b3-8d40-514ec338611d</td>\n",
       "    </tr>\n",
       "    <tr>\n",
       "      <th>4967</th>\n",
       "      <td>f8df22c4-1602-4fab-896d-8820951aae2f</td>\n",
       "    </tr>\n",
       "    <tr>\n",
       "      <th>4968</th>\n",
       "      <td>b791c69a-f769-4163-afda-051a6fd20a9d</td>\n",
       "    </tr>\n",
       "    <tr>\n",
       "      <th>4969</th>\n",
       "      <td>18b51f5d-4746-4121-88fd-c8d0a1399130</td>\n",
       "    </tr>\n",
       "  </tbody>\n",
       "</table>\n",
       "<p>4970 rows × 1 columns</p>\n",
       "</div>"
      ],
      "text/plain": [
       "                                 player_id\n",
       "0     cf302b4d-84f7-4124-a25d-a75eed31978b\n",
       "1     f91837cd-4f49-4b70-963d-aeb82c6ce3da\n",
       "2     53ec2a29-1e7d-4c6d-86d7-d60d02af8916\n",
       "3     32402798-471c-4a54-8cb4-29cd95199014\n",
       "4     73b960f9-27b8-4431-9d23-a760e9bbc360\n",
       "...                                    ...\n",
       "4965  a25ee55f-02a3-4f8e-8194-a5f427e14e7c\n",
       "4966  d0d9f45e-7b01-44b3-8d40-514ec338611d\n",
       "4967  f8df22c4-1602-4fab-896d-8820951aae2f\n",
       "4968  b791c69a-f769-4163-afda-051a6fd20a9d\n",
       "4969  18b51f5d-4746-4121-88fd-c8d0a1399130\n",
       "\n",
       "[4970 rows x 1 columns]"
      ]
     },
     "execution_count": 308,
     "metadata": {},
     "output_type": "execute_result"
    }
   ],
   "source": [
    "data1=test_df['player_id'].to_numpy()\n",
    "data_frame2=pd.DataFrame(data1)\n",
    "data_frame2.columns=['player_id']\n",
    "data_frame2"
   ]
  },
  {
   "cell_type": "code",
   "execution_count": 309,
   "metadata": {},
   "outputs": [],
   "source": [
    "data_frame=pd.DataFrame(y_pred_proba)\n",
    "data_frame.columns=['drafted']\n",
    "data_frame3=data_frame.astype(str)\n",
    "OutPut = pd.merge(data_frame2, data_frame3, left_index=True, right_index=True)\n"
   ]
  },
  {
   "cell_type": "code",
   "execution_count": 310,
   "metadata": {},
   "outputs": [],
   "source": [
    "OutPut.to_csv('output_NBA_Draft_MLPClassifier_1_week4.csv',index=False)"
   ]
  },
  {
   "cell_type": "code",
   "execution_count": 311,
   "metadata": {},
   "outputs": [
    {
     "name": "stdout",
     "output_type": "stream",
     "text": [
      "The probablity score of each player is:\n",
      "            drafted\n",
      "0      1.043965e-97\n",
      "1     5.251134e-153\n",
      "2      4.957595e-23\n",
      "3      8.625745e-79\n",
      "4      5.146795e-01\n",
      "...             ...\n",
      "4965   2.767784e-08\n",
      "4966  5.859592e-224\n",
      "4967  4.893308e-172\n",
      "4968  7.734669e-162\n",
      "4969   2.998046e-95\n",
      "\n",
      "[4970 rows x 1 columns]\n"
     ]
    }
   ],
   "source": [
    "print(\"The probablity score of each player is:\")\n",
    "print(data_frame)"
   ]
  },
  {
   "cell_type": "markdown",
   "metadata": {},
   "source": [
    "### The AU-ROC Score from kaggle for custom_MLPClassifier model prediction"
   ]
  },
  {
   "attachments": {
    "Screenshot 2023-09-08 at 11.40.16 pm.png": {
     "image/png": "[encoded data removed]"
    }
   },
   "cell_type": "markdown",
   "metadata": {},
   "source": [
    "![Screenshot 2023-09-08 at 11.40.16 pm.png](<attachment:Screenshot 2023-09-08 at 11.40.16 pm.png>)"
   ]
  },
  {
   "cell_type": "code",
   "execution_count": 312,
   "metadata": {},
   "outputs": [],
   "source": [
    "outpot_df= pd.read_csv('../notebooks/output_NBA_Draft_MLPClassifier_1_week4.csv')"
   ]
  },
  {
   "cell_type": "code",
   "execution_count": 313,
   "metadata": {},
   "outputs": [
    {
     "data": {
      "image/png": "[encoded data removed]",
      "text/plain": [
       "<Figure size 640x480 with 1 Axes>"
      ]
     },
     "metadata": {},
     "output_type": "display_data"
    }
   ],
   "source": [
    "y=outpot_df['drafted']\n",
    "plt.hist(y, label='Drafted', color='purple')\n",
    "plt.xlabel('Drafted')\n",
    "plt.ylabel('Number of players')\n",
    "plt.title('Payer Drafted')\n",
    "plt.legend()\n",
    "plt.grid(True)\n",
    "\n",
    "# Show the plot\n",
    "plt.show()"
   ]
  }
 ],
 "metadata": {
  "kernelspec": {
   "display_name": "Python 3",
   "language": "python",
   "name": "python3"
  },
  "language_info": {
   "codemirror_mode": {
    "name": "ipython",
    "version": 3
   },
   "file_extension": ".py",
   "mimetype": "text/x-python",
   "name": "python",
   "nbconvert_exporter": "python",
   "pygments_lexer": "ipython3",
   "version": "3.8.10"
  },
  "orig_nbformat": 4
 },
 "nbformat": 4,
 "nbformat_minor": 2
}
